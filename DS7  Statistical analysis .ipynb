{
  "nbformat": 4,
  "nbformat_minor": 0,
  "metadata": {
    "colab": {
      "provenance": [],
      "include_colab_link": true
    },
    "kernelspec": {
      "name": "python3",
      "display_name": "Python 3"
    },
    "language_info": {
      "name": "python"
    }
  },
  "cells": [
    {
      "cell_type": "markdown",
      "metadata": {
        "id": "view-in-github",
        "colab_type": "text"
      },
      "source": [
        "<a href=\"https://colab.research.google.com/github/RUMONMD89/Data-Science/blob/main/DS7%20%20Statistical%20analysis%20.ipynb\" target=\"_parent\"><img src=\"https://colab.research.google.com/assets/colab-badge.svg\" alt=\"Open In Colab\"/></a>"
      ]
    },
    {
      "cell_type": "markdown",
      "metadata": {
        "id": "DbSbGt9jqEJv"
      },
      "source": [
        "# 04\n",
        "\n",
        "## 4.1 記述統計(descriptive statistics)\n",
        "\n",
        "### 4.1.1 平均・分散・標準偏差(mean, variance, standard deviation)"
      ]
    },
    {
      "cell_type": "code",
      "execution_count": null,
      "metadata": {
        "colab": {
          "base_uri": "https://localhost:8080/"
        },
        "id": "GqV5btV6qEJ0",
        "outputId": "8da03bd7-1f2d-4868-bdf0-7d83859e570a"
      },
      "outputs": [
        {
          "output_type": "execute_result",
          "data": {
            "text/plain": [
              "175.0"
            ]
          },
          "metadata": {},
          "execution_count": 26
        }
      ],
      "source": [
        "import numpy as np\n",
        "import pandas as pd\n",
        "\n",
        "x = [165, 170, 175, 180, 185]\n",
        "np.mean(x) # リストの場合\n",
        "#> 175.0\n",
        "\n",
        "x = np.array( # アレイ\n",
        "    [165, 170, 175, 180, 185])\n",
        "x.mean() # np.mean(x)も可\n",
        "#> 175.0\n",
        "\n",
        "x = pd.Series( # シリーズ\n",
        "    [165, 170, 175, 180, 185])\n",
        "x.mean() # np.mean(x)も可\n",
        "#> 175.0"
      ]
    },
    {
      "cell_type": "code",
      "execution_count": null,
      "metadata": {
        "colab": {
          "base_uri": "https://localhost:8080/"
        },
        "id": "e1Uh4CaRqEJ3",
        "outputId": "2607c816-953a-42c7-b8db-8d071770959b"
      },
      "outputs": [
        {
          "output_type": "execute_result",
          "data": {
            "text/plain": [
              "175.0"
            ]
          },
          "metadata": {},
          "execution_count": 27
        }
      ],
      "source": [
        "n = len(x) # サンプルサイズ\n",
        "sum(x) / n\n",
        "#> 175.0"
      ]
    },
    {
      "cell_type": "code",
      "execution_count": null,
      "metadata": {
        "colab": {
          "base_uri": "https://localhost:8080/"
        },
        "id": "tXcvBUYEqEJ4",
        "outputId": "368c9a14-4032-49fe-d832-6d9f9e1bdf14"
      },
      "outputs": [
        {
          "output_type": "execute_result",
          "data": {
            "text/plain": [
              "175.0"
            ]
          },
          "metadata": {},
          "execution_count": 28
        }
      ],
      "source": [
        "y = [173, 174, 175, 176, 177]\n",
        "np.mean(y)\n",
        "#> 175.0"
      ]
    },
    {
      "cell_type": "code",
      "execution_count": null,
      "metadata": {
        "colab": {
          "base_uri": "https://localhost:8080/"
        },
        "id": "TztNERb1qEJ4",
        "outputId": "6b674840-618a-40d3-8969-6ed467aa11f4"
      },
      "outputs": [
        {
          "output_type": "execute_result",
          "data": {
            "text/plain": [
              "2.5"
            ]
          },
          "metadata": {},
          "execution_count": 29
        }
      ],
      "source": [
        "np.var(x, ddof=1) # xの分散\n",
        "#> 62.5\n",
        "\n",
        "np.var(y, ddof=1) # yの分散\n",
        "#> 2.5"
      ]
    },
    {
      "cell_type": "code",
      "execution_count": null,
      "metadata": {
        "colab": {
          "base_uri": "https://localhost:8080/"
        },
        "id": "4k799kDMqEJ5",
        "outputId": "cb3b71a0-e180-42fd-9555-dc653a2f189e"
      },
      "outputs": [
        {
          "output_type": "execute_result",
          "data": {
            "text/plain": [
              "62.5"
            ]
          },
          "metadata": {},
          "execution_count": 30
        }
      ],
      "source": [
        "sum((x - np.mean(x))**2) / (n - 1)\n",
        "#> 62.5"
      ]
    },
    {
      "cell_type": "code",
      "execution_count": null,
      "metadata": {
        "colab": {
          "base_uri": "https://localhost:8080/"
        },
        "id": "KQV03ZHYqEJ6",
        "outputId": "41c13ff2-3883-430d-a451-205226b35b6a"
      },
      "outputs": [
        {
          "output_type": "execute_result",
          "data": {
            "text/plain": [
              "1.5811388300841898"
            ]
          },
          "metadata": {},
          "execution_count": 31
        }
      ],
      "source": [
        "np.std(x, ddof=1) # xの標準偏差\n",
        "#> 7.905694150420948\n",
        "\n",
        "np.std(y, ddof=1) # yの標準偏差\n",
        "#> 1.5811388300841898"
      ]
    },
    {
      "cell_type": "code",
      "execution_count": null,
      "metadata": {
        "colab": {
          "base_uri": "https://localhost:8080/"
        },
        "id": "ufspcr6KqEJ7",
        "outputId": "a3bbf180-05dd-43e7-e7bd-76d18fa756ef"
      },
      "outputs": [
        {
          "output_type": "execute_result",
          "data": {
            "text/plain": [
              "7.905694150420948"
            ]
          },
          "metadata": {},
          "execution_count": 32
        }
      ],
      "source": [
        "np.var(x, ddof=1)**0.5 # xの標準偏差\n",
        "#> 7.905694150420948"
      ]
    },
    {
      "cell_type": "code",
      "execution_count": null,
      "metadata": {
        "colab": {
          "base_uri": "https://localhost:8080/"
        },
        "id": "O650p9QNqEJ7",
        "outputId": "1e04ed36-71c7-4470-8dc9-58222e93fe99"
      },
      "outputs": [
        {
          "output_type": "execute_result",
          "data": {
            "text/plain": [
              "count      5.000000\n",
              "mean     175.000000\n",
              "std        7.905694\n",
              "min      165.000000\n",
              "25%      170.000000\n",
              "50%      175.000000\n",
              "75%      180.000000\n",
              "max      185.000000\n",
              "dtype: float64"
            ]
          },
          "metadata": {},
          "execution_count": 33
        }
      ],
      "source": [
        "s = pd.Series(x)\n",
        "s.describe()\n",
        "#> count      5.000000 （データ数）\n",
        "#> mean     175.000000 （平均）\n",
        "#> std        7.905694 （標準偏差）\n",
        "#> min      165.000000 （最小値）\n",
        "#> 25%      170.000000 （第1四分位数）\n",
        "#> 50%      175.000000 （中央値）\n",
        "#> 75%      180.000000 （第3四分位数）\n",
        "#> max      185.000000 （最大値）\n",
        "#> dtype: float64"
      ]
    },
    {
      "cell_type": "code",
      "execution_count": null,
      "metadata": {
        "id": "8ZdkRJtcqEJ8"
      },
      "outputs": [],
      "source": [
        "# s.describe()で計算済み"
      ]
    },
    {
      "cell_type": "markdown",
      "metadata": {
        "id": "WVbra_ckqEJ9"
      },
      "source": [
        "#### 4.1.1.1 不偏分散とその非負の平方根(unbiased variance and its nonnegative square root)"
      ]
    },
    {
      "cell_type": "code",
      "execution_count": null,
      "metadata": {
        "colab": {
          "base_uri": "https://localhost:8080/"
        },
        "id": "XD2rIkZLqEJ9",
        "outputId": "b3fccefc-5c4c-4a1b-ce1f-13025b314bfb"
      },
      "outputs": [
        {
          "output_type": "execute_result",
          "data": {
            "text/plain": [
              "50.0"
            ]
          },
          "metadata": {},
          "execution_count": 35
        }
      ],
      "source": [
        "x = [165, 170, 175, 180, 185]\n",
        "\n",
        "np.var(x, ddof=1) # 不偏分散\n",
        "#> 62.5\n",
        "\n",
        "np.var(x, ddof=0) # 標本分散\n",
        "#> 50.0"
      ]
    },
    {
      "cell_type": "code",
      "execution_count": null,
      "metadata": {
        "colab": {
          "base_uri": "https://localhost:8080/"
        },
        "id": "1MP5BBJeqEJ-",
        "outputId": "002975be-dfec-472d-a8ea-26bd6dfc3f01"
      },
      "outputs": [
        {
          "output_type": "execute_result",
          "data": {
            "text/plain": [
              "7.0710678118654755"
            ]
          },
          "metadata": {},
          "execution_count": 36
        }
      ],
      "source": [
        "np.std(x, ddof=1) # √不偏分散\n",
        "#> 7.905694150420949\n",
        "\n",
        "np.std(x, ddof=0) # √標本分散\n",
        "#> 7.0710678118654755"
      ]
    },
    {
      "cell_type": "code",
      "execution_count": null,
      "metadata": {
        "colab": {
          "base_uri": "https://localhost:8080/"
        },
        "id": "p_OHh4OPqEJ_",
        "outputId": "ab6a1620-b78d-4dce-8c74-3255a236538e"
      },
      "outputs": [
        {
          "output_type": "execute_result",
          "data": {
            "text/plain": [
              "3.5355339059327373"
            ]
          },
          "metadata": {},
          "execution_count": 37
        }
      ],
      "source": [
        "np.std(x, ddof=1) / len(x)**0.5\n",
        "#> 3.5355339059327373"
      ]
    },
    {
      "cell_type": "markdown",
      "metadata": {
        "id": "PJ5mZZzzqEKB"
      },
      "source": [
        "### 4.1.2 データフレームの統計処理(Statistical processing of dataframes)"
      ]
    },
    {
      "cell_type": "code",
      "execution_count": null,
      "metadata": {
        "id": "OlapibYUqEKC"
      },
      "outputs": [],
      "source": [
        "import numpy as np\n",
        "import pandas as pd\n",
        "\n",
        "my_df = pd.DataFrame({\n",
        "    'name':    ['A', 'B', 'C', 'D'],\n",
        "    'english': [ 60,  90,  70,  90],\n",
        "    'math':    [ 70,  80,  90, 100],\n",
        "    'gender':  ['f', 'm', 'm', 'f']})"
      ]
    },
    {
      "cell_type": "markdown",
      "metadata": {
        "id": "drV7Ngk2qEKC"
      },
      "source": [
        "#### 4.1.2.1 列ごとの集計(Aggregation by column)"
      ]
    },
    {
      "cell_type": "code",
      "execution_count": null,
      "metadata": {
        "colab": {
          "base_uri": "https://localhost:8080/"
        },
        "id": "_LVDN8OrqEKD",
        "outputId": "187ecc6d-8a74-4d6f-a91a-9a09c235e3e3"
      },
      "outputs": [
        {
          "output_type": "execute_result",
          "data": {
            "text/plain": [
              "225.0"
            ]
          },
          "metadata": {},
          "execution_count": 39
        }
      ],
      "source": [
        "my_df['english'].var(ddof=1)\n",
        "# あるいは\n",
        "np.var(my_df['english'], ddof=1)\n",
        "\n",
        "#> 225.0"
      ]
    },
    {
      "cell_type": "code",
      "execution_count": null,
      "metadata": {
        "colab": {
          "base_uri": "https://localhost:8080/"
        },
        "id": "8udJJFSWqEKE",
        "outputId": "8f8616f5-5b1f-45e8-a93a-6306d22b2b9b"
      },
      "outputs": [
        {
          "output_type": "stream",
          "name": "stderr",
          "text": [
            "/usr/local/lib/python3.7/dist-packages/ipykernel_launcher.py:1: FutureWarning: Dropping of nuisance columns in DataFrame reductions (with 'numeric_only=None') is deprecated; in a future version this will raise TypeError.  Select only valid columns before calling the reduction.\n",
            "  \"\"\"Entry point for launching an IPython kernel.\n",
            "/usr/local/lib/python3.7/dist-packages/pandas/core/apply.py:577: FutureWarning: Dropping of nuisance columns in DataFrame reductions (with 'numeric_only=None') is deprecated; in a future version this will raise TypeError.  Select only valid columns before calling the reduction.\n",
            "  return f(*args, **kwargs)\n"
          ]
        },
        {
          "output_type": "execute_result",
          "data": {
            "text/plain": [
              "english    225.000000\n",
              "math       166.666667\n",
              "dtype: float64"
            ]
          },
          "metadata": {},
          "execution_count": 40
        }
      ],
      "source": [
        "my_df.var()\n",
        "# あるいは\n",
        "my_df.apply('var')\n",
        "# あるいは\n",
        "my_df.iloc[:, [1, 2]].apply(\n",
        "    lambda x: np.var(x, ddof=1))\n",
        "\n",
        "#> english    225.000000\n",
        "#> math       166.666667\n",
        "#> dtype: float64"
      ]
    },
    {
      "cell_type": "code",
      "execution_count": null,
      "metadata": {
        "colab": {
          "base_uri": "https://localhost:8080/",
          "height": 297
        },
        "id": "rMlzJ9uvqEKE",
        "outputId": "859ca5c0-4839-47dd-8dea-5e5f215573a9"
      },
      "outputs": [
        {
          "output_type": "execute_result",
          "data": {
            "text/plain": [
              "       english        math\n",
              "count      4.0    4.000000\n",
              "mean      77.5   85.000000\n",
              "std       15.0   12.909944\n",
              "min       60.0   70.000000\n",
              "25%       67.5   77.500000\n",
              "50%       80.0   85.000000\n",
              "75%       90.0   92.500000\n",
              "max       90.0  100.000000"
            ],
            "text/html": [
              "\n",
              "  <div id=\"df-113d1224-1bfe-46d6-829a-d0b0c59a7cc9\">\n",
              "    <div class=\"colab-df-container\">\n",
              "      <div>\n",
              "<style scoped>\n",
              "    .dataframe tbody tr th:only-of-type {\n",
              "        vertical-align: middle;\n",
              "    }\n",
              "\n",
              "    .dataframe tbody tr th {\n",
              "        vertical-align: top;\n",
              "    }\n",
              "\n",
              "    .dataframe thead th {\n",
              "        text-align: right;\n",
              "    }\n",
              "</style>\n",
              "<table border=\"1\" class=\"dataframe\">\n",
              "  <thead>\n",
              "    <tr style=\"text-align: right;\">\n",
              "      <th></th>\n",
              "      <th>english</th>\n",
              "      <th>math</th>\n",
              "    </tr>\n",
              "  </thead>\n",
              "  <tbody>\n",
              "    <tr>\n",
              "      <th>count</th>\n",
              "      <td>4.0</td>\n",
              "      <td>4.000000</td>\n",
              "    </tr>\n",
              "    <tr>\n",
              "      <th>mean</th>\n",
              "      <td>77.5</td>\n",
              "      <td>85.000000</td>\n",
              "    </tr>\n",
              "    <tr>\n",
              "      <th>std</th>\n",
              "      <td>15.0</td>\n",
              "      <td>12.909944</td>\n",
              "    </tr>\n",
              "    <tr>\n",
              "      <th>min</th>\n",
              "      <td>60.0</td>\n",
              "      <td>70.000000</td>\n",
              "    </tr>\n",
              "    <tr>\n",
              "      <th>25%</th>\n",
              "      <td>67.5</td>\n",
              "      <td>77.500000</td>\n",
              "    </tr>\n",
              "    <tr>\n",
              "      <th>50%</th>\n",
              "      <td>80.0</td>\n",
              "      <td>85.000000</td>\n",
              "    </tr>\n",
              "    <tr>\n",
              "      <th>75%</th>\n",
              "      <td>90.0</td>\n",
              "      <td>92.500000</td>\n",
              "    </tr>\n",
              "    <tr>\n",
              "      <th>max</th>\n",
              "      <td>90.0</td>\n",
              "      <td>100.000000</td>\n",
              "    </tr>\n",
              "  </tbody>\n",
              "</table>\n",
              "</div>\n",
              "      <button class=\"colab-df-convert\" onclick=\"convertToInteractive('df-113d1224-1bfe-46d6-829a-d0b0c59a7cc9')\"\n",
              "              title=\"Convert this dataframe to an interactive table.\"\n",
              "              style=\"display:none;\">\n",
              "        \n",
              "  <svg xmlns=\"http://www.w3.org/2000/svg\" height=\"24px\"viewBox=\"0 0 24 24\"\n",
              "       width=\"24px\">\n",
              "    <path d=\"M0 0h24v24H0V0z\" fill=\"none\"/>\n",
              "    <path d=\"M18.56 5.44l.94 2.06.94-2.06 2.06-.94-2.06-.94-.94-2.06-.94 2.06-2.06.94zm-11 1L8.5 8.5l.94-2.06 2.06-.94-2.06-.94L8.5 2.5l-.94 2.06-2.06.94zm10 10l.94 2.06.94-2.06 2.06-.94-2.06-.94-.94-2.06-.94 2.06-2.06.94z\"/><path d=\"M17.41 7.96l-1.37-1.37c-.4-.4-.92-.59-1.43-.59-.52 0-1.04.2-1.43.59L10.3 9.45l-7.72 7.72c-.78.78-.78 2.05 0 2.83L4 21.41c.39.39.9.59 1.41.59.51 0 1.02-.2 1.41-.59l7.78-7.78 2.81-2.81c.8-.78.8-2.07 0-2.86zM5.41 20L4 18.59l7.72-7.72 1.47 1.35L5.41 20z\"/>\n",
              "  </svg>\n",
              "      </button>\n",
              "      \n",
              "  <style>\n",
              "    .colab-df-container {\n",
              "      display:flex;\n",
              "      flex-wrap:wrap;\n",
              "      gap: 12px;\n",
              "    }\n",
              "\n",
              "    .colab-df-convert {\n",
              "      background-color: #E8F0FE;\n",
              "      border: none;\n",
              "      border-radius: 50%;\n",
              "      cursor: pointer;\n",
              "      display: none;\n",
              "      fill: #1967D2;\n",
              "      height: 32px;\n",
              "      padding: 0 0 0 0;\n",
              "      width: 32px;\n",
              "    }\n",
              "\n",
              "    .colab-df-convert:hover {\n",
              "      background-color: #E2EBFA;\n",
              "      box-shadow: 0px 1px 2px rgba(60, 64, 67, 0.3), 0px 1px 3px 1px rgba(60, 64, 67, 0.15);\n",
              "      fill: #174EA6;\n",
              "    }\n",
              "\n",
              "    [theme=dark] .colab-df-convert {\n",
              "      background-color: #3B4455;\n",
              "      fill: #D2E3FC;\n",
              "    }\n",
              "\n",
              "    [theme=dark] .colab-df-convert:hover {\n",
              "      background-color: #434B5C;\n",
              "      box-shadow: 0px 1px 3px 1px rgba(0, 0, 0, 0.15);\n",
              "      filter: drop-shadow(0px 1px 2px rgba(0, 0, 0, 0.3));\n",
              "      fill: #FFFFFF;\n",
              "    }\n",
              "  </style>\n",
              "\n",
              "      <script>\n",
              "        const buttonEl =\n",
              "          document.querySelector('#df-113d1224-1bfe-46d6-829a-d0b0c59a7cc9 button.colab-df-convert');\n",
              "        buttonEl.style.display =\n",
              "          google.colab.kernel.accessAllowed ? 'block' : 'none';\n",
              "\n",
              "        async function convertToInteractive(key) {\n",
              "          const element = document.querySelector('#df-113d1224-1bfe-46d6-829a-d0b0c59a7cc9');\n",
              "          const dataTable =\n",
              "            await google.colab.kernel.invokeFunction('convertToInteractive',\n",
              "                                                     [key], {});\n",
              "          if (!dataTable) return;\n",
              "\n",
              "          const docLinkHtml = 'Like what you see? Visit the ' +\n",
              "            '<a target=\"_blank\" href=https://colab.research.google.com/notebooks/data_table.ipynb>data table notebook</a>'\n",
              "            + ' to learn more about interactive tables.';\n",
              "          element.innerHTML = '';\n",
              "          dataTable['output_type'] = 'display_data';\n",
              "          await google.colab.output.renderOutput(dataTable, element);\n",
              "          const docLink = document.createElement('div');\n",
              "          docLink.innerHTML = docLinkHtml;\n",
              "          element.appendChild(docLink);\n",
              "        }\n",
              "      </script>\n",
              "    </div>\n",
              "  </div>\n",
              "  "
            ]
          },
          "metadata": {},
          "execution_count": 41
        }
      ],
      "source": [
        "my_df.describe()\n",
        "#>        english        math\n",
        "#> count      4.0    4.000000\n",
        "#> mean      77.5   85.000000\n",
        "#> std       15.0   12.909944\n",
        "#> min       60.0   70.000000\n",
        "#> 25%       67.5   77.500000\n",
        "#> 50%       80.0   85.000000\n",
        "#> 75%       90.0   92.500000\n",
        "#> max       90.0  100.000000"
      ]
    },
    {
      "cell_type": "markdown",
      "metadata": {
        "id": "PvTks2m-qEKF"
      },
      "source": [
        "#### 4.1.2.2 分割表とグループごとの集計(Contingency table and aggregation by group)"
      ]
    },
    {
      "cell_type": "code",
      "execution_count": null,
      "metadata": {
        "colab": {
          "base_uri": "https://localhost:8080/"
        },
        "id": "Xh8f98MdqEKG",
        "outputId": "47d046c7-1a2c-424f-e6be-fe4df91b93b0"
      },
      "outputs": [
        {
          "output_type": "execute_result",
          "data": {
            "text/plain": [
              "gender\n",
              "f    2\n",
              "m    2\n",
              "dtype: int64"
            ]
          },
          "metadata": {},
          "execution_count": 42
        }
      ],
      "source": [
        "from collections import Counter\n",
        "Counter(my_df.gender)\n",
        "#> Counter({'f': 2, 'm': 2})\n",
        "\n",
        "# あるいは\n",
        "\n",
        "my_df.groupby('gender').apply(len)\n",
        "#> gender\n",
        "#> f    2\n",
        "#> m    2\n",
        "#> dtype: int64"
      ]
    },
    {
      "cell_type": "code",
      "execution_count": null,
      "metadata": {
        "colab": {
          "base_uri": "https://localhost:8080/",
          "height": 142
        },
        "id": "C3OMRSpdqEKG",
        "outputId": "2d4d9ae9-7056-4467-e5f8-053415b1f5e3"
      },
      "outputs": [
        {
          "output_type": "execute_result",
          "data": {
            "text/plain": [
              "excel   False  True\n",
              "gender             \n",
              "f           1     1\n",
              "m           0     2"
            ],
            "text/html": [
              "\n",
              "  <div id=\"df-dbfc42d2-3e9f-4100-876d-b7f1388f207c\">\n",
              "    <div class=\"colab-df-container\">\n",
              "      <div>\n",
              "<style scoped>\n",
              "    .dataframe tbody tr th:only-of-type {\n",
              "        vertical-align: middle;\n",
              "    }\n",
              "\n",
              "    .dataframe tbody tr th {\n",
              "        vertical-align: top;\n",
              "    }\n",
              "\n",
              "    .dataframe thead th {\n",
              "        text-align: right;\n",
              "    }\n",
              "</style>\n",
              "<table border=\"1\" class=\"dataframe\">\n",
              "  <thead>\n",
              "    <tr style=\"text-align: right;\">\n",
              "      <th>excel</th>\n",
              "      <th>False</th>\n",
              "      <th>True</th>\n",
              "    </tr>\n",
              "    <tr>\n",
              "      <th>gender</th>\n",
              "      <th></th>\n",
              "      <th></th>\n",
              "    </tr>\n",
              "  </thead>\n",
              "  <tbody>\n",
              "    <tr>\n",
              "      <th>f</th>\n",
              "      <td>1</td>\n",
              "      <td>1</td>\n",
              "    </tr>\n",
              "    <tr>\n",
              "      <th>m</th>\n",
              "      <td>0</td>\n",
              "      <td>2</td>\n",
              "    </tr>\n",
              "  </tbody>\n",
              "</table>\n",
              "</div>\n",
              "      <button class=\"colab-df-convert\" onclick=\"convertToInteractive('df-dbfc42d2-3e9f-4100-876d-b7f1388f207c')\"\n",
              "              title=\"Convert this dataframe to an interactive table.\"\n",
              "              style=\"display:none;\">\n",
              "        \n",
              "  <svg xmlns=\"http://www.w3.org/2000/svg\" height=\"24px\"viewBox=\"0 0 24 24\"\n",
              "       width=\"24px\">\n",
              "    <path d=\"M0 0h24v24H0V0z\" fill=\"none\"/>\n",
              "    <path d=\"M18.56 5.44l.94 2.06.94-2.06 2.06-.94-2.06-.94-.94-2.06-.94 2.06-2.06.94zm-11 1L8.5 8.5l.94-2.06 2.06-.94-2.06-.94L8.5 2.5l-.94 2.06-2.06.94zm10 10l.94 2.06.94-2.06 2.06-.94-2.06-.94-.94-2.06-.94 2.06-2.06.94z\"/><path d=\"M17.41 7.96l-1.37-1.37c-.4-.4-.92-.59-1.43-.59-.52 0-1.04.2-1.43.59L10.3 9.45l-7.72 7.72c-.78.78-.78 2.05 0 2.83L4 21.41c.39.39.9.59 1.41.59.51 0 1.02-.2 1.41-.59l7.78-7.78 2.81-2.81c.8-.78.8-2.07 0-2.86zM5.41 20L4 18.59l7.72-7.72 1.47 1.35L5.41 20z\"/>\n",
              "  </svg>\n",
              "      </button>\n",
              "      \n",
              "  <style>\n",
              "    .colab-df-container {\n",
              "      display:flex;\n",
              "      flex-wrap:wrap;\n",
              "      gap: 12px;\n",
              "    }\n",
              "\n",
              "    .colab-df-convert {\n",
              "      background-color: #E8F0FE;\n",
              "      border: none;\n",
              "      border-radius: 50%;\n",
              "      cursor: pointer;\n",
              "      display: none;\n",
              "      fill: #1967D2;\n",
              "      height: 32px;\n",
              "      padding: 0 0 0 0;\n",
              "      width: 32px;\n",
              "    }\n",
              "\n",
              "    .colab-df-convert:hover {\n",
              "      background-color: #E2EBFA;\n",
              "      box-shadow: 0px 1px 2px rgba(60, 64, 67, 0.3), 0px 1px 3px 1px rgba(60, 64, 67, 0.15);\n",
              "      fill: #174EA6;\n",
              "    }\n",
              "\n",
              "    [theme=dark] .colab-df-convert {\n",
              "      background-color: #3B4455;\n",
              "      fill: #D2E3FC;\n",
              "    }\n",
              "\n",
              "    [theme=dark] .colab-df-convert:hover {\n",
              "      background-color: #434B5C;\n",
              "      box-shadow: 0px 1px 3px 1px rgba(0, 0, 0, 0.15);\n",
              "      filter: drop-shadow(0px 1px 2px rgba(0, 0, 0, 0.3));\n",
              "      fill: #FFFFFF;\n",
              "    }\n",
              "  </style>\n",
              "\n",
              "      <script>\n",
              "        const buttonEl =\n",
              "          document.querySelector('#df-dbfc42d2-3e9f-4100-876d-b7f1388f207c button.colab-df-convert');\n",
              "        buttonEl.style.display =\n",
              "          google.colab.kernel.accessAllowed ? 'block' : 'none';\n",
              "\n",
              "        async function convertToInteractive(key) {\n",
              "          const element = document.querySelector('#df-dbfc42d2-3e9f-4100-876d-b7f1388f207c');\n",
              "          const dataTable =\n",
              "            await google.colab.kernel.invokeFunction('convertToInteractive',\n",
              "                                                     [key], {});\n",
              "          if (!dataTable) return;\n",
              "\n",
              "          const docLinkHtml = 'Like what you see? Visit the ' +\n",
              "            '<a target=\"_blank\" href=https://colab.research.google.com/notebooks/data_table.ipynb>data table notebook</a>'\n",
              "            + ' to learn more about interactive tables.';\n",
              "          element.innerHTML = '';\n",
              "          dataTable['output_type'] = 'display_data';\n",
              "          await google.colab.output.renderOutput(dataTable, element);\n",
              "          const docLink = document.createElement('div');\n",
              "          docLink.innerHTML = docLinkHtml;\n",
              "          element.appendChild(docLink);\n",
              "        }\n",
              "      </script>\n",
              "    </div>\n",
              "  </div>\n",
              "  "
            ]
          },
          "metadata": {},
          "execution_count": 43
        }
      ],
      "source": [
        "my_df2 = my_df.assign(\n",
        "    excel=my_df.math >= 80)\n",
        "pd.crosstab(my_df2.gender,\n",
        "            my_df2.excel)\n",
        "#> excel   False  True\n",
        "#> gender\n",
        "#> f           1      1\n",
        "#> m           0      2"
      ]
    },
    {
      "cell_type": "code",
      "execution_count": null,
      "metadata": {
        "colab": {
          "base_uri": "https://localhost:8080/",
          "height": 142
        },
        "id": "VQKdT1ahqEKH",
        "outputId": "79fc087d-4bd8-4219-aea8-70ba9894e4e3"
      },
      "outputs": [
        {
          "output_type": "execute_result",
          "data": {
            "text/plain": [
              "        english  math\n",
              "gender               \n",
              "f          75.0  85.0\n",
              "m          80.0  85.0"
            ],
            "text/html": [
              "\n",
              "  <div id=\"df-f3b7df44-b421-4f43-ad16-997c6772a4a9\">\n",
              "    <div class=\"colab-df-container\">\n",
              "      <div>\n",
              "<style scoped>\n",
              "    .dataframe tbody tr th:only-of-type {\n",
              "        vertical-align: middle;\n",
              "    }\n",
              "\n",
              "    .dataframe tbody tr th {\n",
              "        vertical-align: top;\n",
              "    }\n",
              "\n",
              "    .dataframe thead th {\n",
              "        text-align: right;\n",
              "    }\n",
              "</style>\n",
              "<table border=\"1\" class=\"dataframe\">\n",
              "  <thead>\n",
              "    <tr style=\"text-align: right;\">\n",
              "      <th></th>\n",
              "      <th>english</th>\n",
              "      <th>math</th>\n",
              "    </tr>\n",
              "    <tr>\n",
              "      <th>gender</th>\n",
              "      <th></th>\n",
              "      <th></th>\n",
              "    </tr>\n",
              "  </thead>\n",
              "  <tbody>\n",
              "    <tr>\n",
              "      <th>f</th>\n",
              "      <td>75.0</td>\n",
              "      <td>85.0</td>\n",
              "    </tr>\n",
              "    <tr>\n",
              "      <th>m</th>\n",
              "      <td>80.0</td>\n",
              "      <td>85.0</td>\n",
              "    </tr>\n",
              "  </tbody>\n",
              "</table>\n",
              "</div>\n",
              "      <button class=\"colab-df-convert\" onclick=\"convertToInteractive('df-f3b7df44-b421-4f43-ad16-997c6772a4a9')\"\n",
              "              title=\"Convert this dataframe to an interactive table.\"\n",
              "              style=\"display:none;\">\n",
              "        \n",
              "  <svg xmlns=\"http://www.w3.org/2000/svg\" height=\"24px\"viewBox=\"0 0 24 24\"\n",
              "       width=\"24px\">\n",
              "    <path d=\"M0 0h24v24H0V0z\" fill=\"none\"/>\n",
              "    <path d=\"M18.56 5.44l.94 2.06.94-2.06 2.06-.94-2.06-.94-.94-2.06-.94 2.06-2.06.94zm-11 1L8.5 8.5l.94-2.06 2.06-.94-2.06-.94L8.5 2.5l-.94 2.06-2.06.94zm10 10l.94 2.06.94-2.06 2.06-.94-2.06-.94-.94-2.06-.94 2.06-2.06.94z\"/><path d=\"M17.41 7.96l-1.37-1.37c-.4-.4-.92-.59-1.43-.59-.52 0-1.04.2-1.43.59L10.3 9.45l-7.72 7.72c-.78.78-.78 2.05 0 2.83L4 21.41c.39.39.9.59 1.41.59.51 0 1.02-.2 1.41-.59l7.78-7.78 2.81-2.81c.8-.78.8-2.07 0-2.86zM5.41 20L4 18.59l7.72-7.72 1.47 1.35L5.41 20z\"/>\n",
              "  </svg>\n",
              "      </button>\n",
              "      \n",
              "  <style>\n",
              "    .colab-df-container {\n",
              "      display:flex;\n",
              "      flex-wrap:wrap;\n",
              "      gap: 12px;\n",
              "    }\n",
              "\n",
              "    .colab-df-convert {\n",
              "      background-color: #E8F0FE;\n",
              "      border: none;\n",
              "      border-radius: 50%;\n",
              "      cursor: pointer;\n",
              "      display: none;\n",
              "      fill: #1967D2;\n",
              "      height: 32px;\n",
              "      padding: 0 0 0 0;\n",
              "      width: 32px;\n",
              "    }\n",
              "\n",
              "    .colab-df-convert:hover {\n",
              "      background-color: #E2EBFA;\n",
              "      box-shadow: 0px 1px 2px rgba(60, 64, 67, 0.3), 0px 1px 3px 1px rgba(60, 64, 67, 0.15);\n",
              "      fill: #174EA6;\n",
              "    }\n",
              "\n",
              "    [theme=dark] .colab-df-convert {\n",
              "      background-color: #3B4455;\n",
              "      fill: #D2E3FC;\n",
              "    }\n",
              "\n",
              "    [theme=dark] .colab-df-convert:hover {\n",
              "      background-color: #434B5C;\n",
              "      box-shadow: 0px 1px 3px 1px rgba(0, 0, 0, 0.15);\n",
              "      filter: drop-shadow(0px 1px 2px rgba(0, 0, 0, 0.3));\n",
              "      fill: #FFFFFF;\n",
              "    }\n",
              "  </style>\n",
              "\n",
              "      <script>\n",
              "        const buttonEl =\n",
              "          document.querySelector('#df-f3b7df44-b421-4f43-ad16-997c6772a4a9 button.colab-df-convert');\n",
              "        buttonEl.style.display =\n",
              "          google.colab.kernel.accessAllowed ? 'block' : 'none';\n",
              "\n",
              "        async function convertToInteractive(key) {\n",
              "          const element = document.querySelector('#df-f3b7df44-b421-4f43-ad16-997c6772a4a9');\n",
              "          const dataTable =\n",
              "            await google.colab.kernel.invokeFunction('convertToInteractive',\n",
              "                                                     [key], {});\n",
              "          if (!dataTable) return;\n",
              "\n",
              "          const docLinkHtml = 'Like what you see? Visit the ' +\n",
              "            '<a target=\"_blank\" href=https://colab.research.google.com/notebooks/data_table.ipynb>data table notebook</a>'\n",
              "            + ' to learn more about interactive tables.';\n",
              "          element.innerHTML = '';\n",
              "          dataTable['output_type'] = 'display_data';\n",
              "          await google.colab.output.renderOutput(dataTable, element);\n",
              "          const docLink = document.createElement('div');\n",
              "          docLink.innerHTML = docLinkHtml;\n",
              "          element.appendChild(docLink);\n",
              "        }\n",
              "      </script>\n",
              "    </div>\n",
              "  </div>\n",
              "  "
            ]
          },
          "metadata": {},
          "execution_count": 44
        }
      ],
      "source": [
        "my_df.groupby('gender').mean()\n",
        "# あるいは\n",
        "my_df.groupby('gender').agg('mean')\n",
        "# あるいは\n",
        "my_df.groupby('gender').agg(np.mean)\n",
        "\n",
        "#>         english  math\n",
        "#> gender\n",
        "#> f          75.0  85.0\n",
        "#> m          80.0  85.0"
      ]
    },
    {
      "cell_type": "markdown",
      "metadata": {
        "id": "LYpEYM8-qEKi"
      },
      "source": [
        "## 4.4 統計的推測(statistical inference)\n",
        "\n",
        "### 4.4.1 検定"
      ]
    },
    {
      "cell_type": "code",
      "execution_count": null,
      "metadata": {
        "colab": {
          "base_uri": "https://localhost:8080/"
        },
        "id": "u2UrU_1rqEKi",
        "outputId": "e6ed4672-3f62-45b4-e39c-a85cd28b6a9a"
      },
      "outputs": [
        {
          "output_type": "execute_result",
          "data": {
            "text/plain": [
              "0.036461661552639996"
            ]
          },
          "metadata": {},
          "execution_count": 45
        }
      ],
      "source": [
        "from statsmodels.stats.proportion import binom_test, proportion_confint\n",
        "\n",
        "binom_test(count=2,                 # 当たった回数\n",
        "           nobs=15,                 # くじを引いた回数\n",
        "           prop=4 / 10,             # 当たる確率（仮説）\n",
        "           alternative='two-sided') # 両側検定（デフォルト）\n",
        "                                    # 左片側検定なら'smaller'\n",
        "                                    # 右片側検定なら'larger'\n",
        "#> 0.03646166155263999"
      ]
    },
    {
      "cell_type": "code",
      "source": [],
      "metadata": {
        "id": "nCBRg1EIG9aJ"
      },
      "execution_count": null,
      "outputs": []
    },
    {
      "cell_type": "markdown",
      "metadata": {
        "id": "zfEmEz6rqEKj"
      },
      "source": [
        "#### 4.4.1.1 補足：p値とは何か(Side note: what is a p-value)"
      ]
    },
    {
      "cell_type": "code",
      "execution_count": null,
      "metadata": {
        "colab": {
          "base_uri": "https://localhost:8080/",
          "height": 296
        },
        "id": "0df9kMLkqEKj",
        "outputId": "cb06c071-d966-4f6e-b324-f13995c6f028"
      },
      "outputs": [
        {
          "output_type": "execute_result",
          "data": {
            "text/plain": [
              "<matplotlib.collections.LineCollection at 0x7f2fabb5e410>"
            ]
          },
          "metadata": {},
          "execution_count": 46
        },
        {
          "output_type": "display_data",
          "data": {
            "text/plain": [
              "<Figure size 432x288 with 1 Axes>"
            ],
            "image/png": "[encoded data removed]"
          },
          "metadata": {
            "needs_background": "light"
          }
        }
      ],
      "source": [
        "import numpy as np\n",
        "import pandas as pd\n",
        "from scipy import stats\n",
        "\n",
        "t = 4 / 10                        # 当たる確率\n",
        "n = 15                            # くじを引いた回数\n",
        "x = np.array(range(0, n + 1))     # 当たった回数\n",
        "my_pr  = stats.binom.pmf(x, n, t) # x回当たる確率\n",
        "my_pr2 = stats.binom.pmf(2, n, t) # 2回当たる確率\n",
        "\n",
        "my_data = pd.DataFrame({'x': x, 'y1': my_pr, 'y2': my_pr})\n",
        "my_data.loc[my_pr >  my_pr2, 'y1'] = np.nan # 当たる確率が，2回当たる確率超過\n",
        "my_data.loc[my_pr <= my_pr2, 'y2'] = np.nan # 当たる確率が，2回当たる確率以下\n",
        "ax = my_data.plot(x='x', style='o', ylabel='probability',\n",
        "                  legend=False)         # 凡例を表示しない．\n",
        "ax.hlines(y=my_pr2, xmin=0, xmax=15)    # 水平線\n",
        "ax.vlines(x=x,      ymin=0, ymax=my_pr) # 垂直線"
      ]
    },
    {
      "cell_type": "markdown",
      "metadata": {
        "id": "lEaS9zGvqEKk"
      },
      "source": [
        "### 4.4.2 推定"
      ]
    },
    {
      "cell_type": "code",
      "execution_count": null,
      "metadata": {
        "id": "qaVUYnsoqEKl"
      },
      "outputs": [],
      "source": [
        "## Google colabではクラッシュするので実行はパスしています\n",
        "#from statsmodels.stats.proportion import proportion_confint\n",
        "#a = 0.05\n",
        "#proportion_confint(\n",
        "#    count=2, # 当たった回数\n",
        "#    nobs=15, # くじを引いた回数\n",
        "#    alpha=a, # 有意水準（省略可）\n",
        "#    method='binom_test')\n",
        "##> (0.024225732468536626,\n",
        "##>  0.3967139842509865)"
      ]
    },
    {
      "cell_type": "code",
      "execution_count": null,
      "metadata": {
        "id": "B2-vSX4VqEKl",
        "colab": {
          "base_uri": "https://localhost:8080/",
          "height": 298
        },
        "outputId": "f8f4f2ef-04ae-4ea0-e90d-b23f7328002f"
      },
      "outputs": [
        {
          "output_type": "execute_result",
          "data": {
            "text/plain": [
              "<matplotlib.axes._subplots.AxesSubplot at 0x7f2fabb2e990>"
            ]
          },
          "metadata": {},
          "execution_count": 48
        },
        {
          "output_type": "display_data",
          "data": {
            "text/plain": [
              "<Figure size 432x288 with 1 Axes>"
            ],
            "image/png": "[encoded data removed]"
          },
          "metadata": {
            "needs_background": "light"
          }
        }
      ],
      "source": [
        "import numpy as np\n",
        "import pandas as pd\n",
        "from scipy import stats\n",
        "a = 0.05 # 有意水準\n",
        "tmp = np.linspace(0, 1, 100)\n",
        "\n",
        "my_df = pd.DataFrame({\n",
        "    't': tmp,                                                  # 当たる確率\n",
        "    'q': a,                                                    # 水平線\n",
        "###    'p': [stats.binom_test(count=2, nobs=15, prop=t) for t in tmp]}) # p値\n",
        "    'p': [stats.binom_test(2, n=15, p=t) for t in tmp]}) # p値\n",
        "\n",
        "\n",
        "my_df.plot(x='t', legend=None, xlabel=r'$\\theta$', ylabel=r'p-value')"
      ]
    },
    {
      "cell_type": "markdown",
      "metadata": {
        "id": "DtKjEdvyqEKm"
      },
      "source": [
        "### 4.4.3 平均の差の検定と推定（t検定）[Mean Difference Test and Estimation]"
      ]
    },
    {
      "cell_type": "code",
      "execution_count": null,
      "metadata": {
        "id": "Wvn9c4Q7qEKm",
        "colab": {
          "base_uri": "https://localhost:8080/"
        },
        "outputId": "8343d082-a033-4b7e-b5c3-36bb45a84370"
      },
      "outputs": [
        {
          "output_type": "execute_result",
          "data": {
            "text/plain": [
              "(-3.9955246743198867, -1.3644753256801117)"
            ]
          },
          "metadata": {},
          "execution_count": 49
        }
      ],
      "source": [
        "from statsmodels.stats.weightstats import CompareMeans, DescrStatsW\n",
        "\n",
        "X = [32.1, 26.2, 27.5, 31.8, 32.1, 31.2, 30.1, 32.4, 32.3, 29.9,\n",
        "     29.6, 26.6, 31.2, 30.9, 29.3]\n",
        "Y = [35.4, 34.6, 31.1, 32.4, 33.3, 34.7, 35.3, 34.3, 32.1, 28.3,\n",
        "     33.3, 30.5, 32.6, 33.3, 32.2]\n",
        "\n",
        "a = 0.05          # 有意水準（デフォルト） = 1 - 信頼係数\n",
        "alt = 'two-sided' # 両側検定（デフォルト）\n",
        "                  # 左片側検定なら'smaller'\n",
        "                  # 右片側検定なら'larger'\n",
        "\n",
        "d = DescrStatsW(np.array(X) - np.array(Y)) # 対標本の場合\n",
        "d.ttest_mean(alternative=alt)[1]           # p値\n",
        "#> 0.0006415571512322235\n",
        "\n",
        "d.tconfint_mean(alpha=a, alternative=alt) # 信頼区間\n",
        "#> (-3.9955246743198867, -1.3644753256801117)"
      ]
    },
    {
      "cell_type": "code",
      "execution_count": null,
      "metadata": {
        "id": "aBaxcOVIqEKm",
        "colab": {
          "base_uri": "https://localhost:8080/"
        },
        "outputId": "dde1f746-52cf-4050-e546-99ffcc582d3d"
      },
      "outputs": [
        {
          "output_type": "execute_result",
          "data": {
            "text/plain": [
              "(-4.170905570517185, -1.1890944294828283)"
            ]
          },
          "metadata": {},
          "execution_count": 50
        }
      ],
      "source": [
        "c = CompareMeans(DescrStatsW(X), DescrStatsW(Y)) # 対標本でない場合\n",
        "\n",
        "ve = 'pooled' # 等分散を仮定する（デフォルト）．仮定しないなら'unequal'．\n",
        "c.ttest_ind(alternative=alt, usevar=ve)[1] # p値\n",
        "#> 0.000978530937238609\n",
        "\n",
        "c.tconfint_diff(alpha=a, alternative=alt, usevar=ve) # 信頼区間\n",
        "#> (-4.170905570517185, -1.1890944294828283)"
      ]
    },
    {
      "cell_type": "markdown",
      "metadata": {
        "id": "g7o78R0GqEKn"
      },
      "source": [
        "### 4.4.4 独立性の検定（カイ2乗検定）[Independence test (chi-square test)]"
      ]
    },
    {
      "cell_type": "code",
      "execution_count": null,
      "metadata": {
        "id": "IRGJRIZhqEKn"
      },
      "outputs": [],
      "source": [
        "import pandas as pd\n",
        "my_url = ('https://raw.githubusercontent.com/taroyabuki'\n",
        "          '/fromzero/master/data/smoker.csv')\n",
        "my_data = pd.read_csv(my_url)"
      ]
    },
    {
      "cell_type": "code",
      "source": [],
      "metadata": {
        "id": "Oa7LXX2kHj_b"
      },
      "execution_count": null,
      "outputs": []
    },
    {
      "cell_type": "code",
      "execution_count": null,
      "metadata": {
        "id": "eZajEAyfqEKn",
        "colab": {
          "base_uri": "https://localhost:8080/",
          "height": 204
        },
        "outputId": "6a968918-4c70-45dd-eca9-016e3dc444c6"
      },
      "outputs": [
        {
          "output_type": "execute_result",
          "data": {
            "text/plain": [
              "  alive smoker\n",
              "0   Yes     No\n",
              "1   Yes     No\n",
              "2   Yes     No\n",
              "3   Yes     No\n",
              "4   Yes     No"
            ],
            "text/html": [
              "\n",
              "  <div id=\"df-16f898b7-2af4-4959-87b3-546b5fc7e757\">\n",
              "    <div class=\"colab-df-container\">\n",
              "      <div>\n",
              "<style scoped>\n",
              "    .dataframe tbody tr th:only-of-type {\n",
              "        vertical-align: middle;\n",
              "    }\n",
              "\n",
              "    .dataframe tbody tr th {\n",
              "        vertical-align: top;\n",
              "    }\n",
              "\n",
              "    .dataframe thead th {\n",
              "        text-align: right;\n",
              "    }\n",
              "</style>\n",
              "<table border=\"1\" class=\"dataframe\">\n",
              "  <thead>\n",
              "    <tr style=\"text-align: right;\">\n",
              "      <th></th>\n",
              "      <th>alive</th>\n",
              "      <th>smoker</th>\n",
              "    </tr>\n",
              "  </thead>\n",
              "  <tbody>\n",
              "    <tr>\n",
              "      <th>0</th>\n",
              "      <td>Yes</td>\n",
              "      <td>No</td>\n",
              "    </tr>\n",
              "    <tr>\n",
              "      <th>1</th>\n",
              "      <td>Yes</td>\n",
              "      <td>No</td>\n",
              "    </tr>\n",
              "    <tr>\n",
              "      <th>2</th>\n",
              "      <td>Yes</td>\n",
              "      <td>No</td>\n",
              "    </tr>\n",
              "    <tr>\n",
              "      <th>3</th>\n",
              "      <td>Yes</td>\n",
              "      <td>No</td>\n",
              "    </tr>\n",
              "    <tr>\n",
              "      <th>4</th>\n",
              "      <td>Yes</td>\n",
              "      <td>No</td>\n",
              "    </tr>\n",
              "  </tbody>\n",
              "</table>\n",
              "</div>\n",
              "      <button class=\"colab-df-convert\" onclick=\"convertToInteractive('df-16f898b7-2af4-4959-87b3-546b5fc7e757')\"\n",
              "              title=\"Convert this dataframe to an interactive table.\"\n",
              "              style=\"display:none;\">\n",
              "        \n",
              "  <svg xmlns=\"http://www.w3.org/2000/svg\" height=\"24px\"viewBox=\"0 0 24 24\"\n",
              "       width=\"24px\">\n",
              "    <path d=\"M0 0h24v24H0V0z\" fill=\"none\"/>\n",
              "    <path d=\"M18.56 5.44l.94 2.06.94-2.06 2.06-.94-2.06-.94-.94-2.06-.94 2.06-2.06.94zm-11 1L8.5 8.5l.94-2.06 2.06-.94-2.06-.94L8.5 2.5l-.94 2.06-2.06.94zm10 10l.94 2.06.94-2.06 2.06-.94-2.06-.94-.94-2.06-.94 2.06-2.06.94z\"/><path d=\"M17.41 7.96l-1.37-1.37c-.4-.4-.92-.59-1.43-.59-.52 0-1.04.2-1.43.59L10.3 9.45l-7.72 7.72c-.78.78-.78 2.05 0 2.83L4 21.41c.39.39.9.59 1.41.59.51 0 1.02-.2 1.41-.59l7.78-7.78 2.81-2.81c.8-.78.8-2.07 0-2.86zM5.41 20L4 18.59l7.72-7.72 1.47 1.35L5.41 20z\"/>\n",
              "  </svg>\n",
              "      </button>\n",
              "      \n",
              "  <style>\n",
              "    .colab-df-container {\n",
              "      display:flex;\n",
              "      flex-wrap:wrap;\n",
              "      gap: 12px;\n",
              "    }\n",
              "\n",
              "    .colab-df-convert {\n",
              "      background-color: #E8F0FE;\n",
              "      border: none;\n",
              "      border-radius: 50%;\n",
              "      cursor: pointer;\n",
              "      display: none;\n",
              "      fill: #1967D2;\n",
              "      height: 32px;\n",
              "      padding: 0 0 0 0;\n",
              "      width: 32px;\n",
              "    }\n",
              "\n",
              "    .colab-df-convert:hover {\n",
              "      background-color: #E2EBFA;\n",
              "      box-shadow: 0px 1px 2px rgba(60, 64, 67, 0.3), 0px 1px 3px 1px rgba(60, 64, 67, 0.15);\n",
              "      fill: #174EA6;\n",
              "    }\n",
              "\n",
              "    [theme=dark] .colab-df-convert {\n",
              "      background-color: #3B4455;\n",
              "      fill: #D2E3FC;\n",
              "    }\n",
              "\n",
              "    [theme=dark] .colab-df-convert:hover {\n",
              "      background-color: #434B5C;\n",
              "      box-shadow: 0px 1px 3px 1px rgba(0, 0, 0, 0.15);\n",
              "      filter: drop-shadow(0px 1px 2px rgba(0, 0, 0, 0.3));\n",
              "      fill: #FFFFFF;\n",
              "    }\n",
              "  </style>\n",
              "\n",
              "      <script>\n",
              "        const buttonEl =\n",
              "          document.querySelector('#df-16f898b7-2af4-4959-87b3-546b5fc7e757 button.colab-df-convert');\n",
              "        buttonEl.style.display =\n",
              "          google.colab.kernel.accessAllowed ? 'block' : 'none';\n",
              "\n",
              "        async function convertToInteractive(key) {\n",
              "          const element = document.querySelector('#df-16f898b7-2af4-4959-87b3-546b5fc7e757');\n",
              "          const dataTable =\n",
              "            await google.colab.kernel.invokeFunction('convertToInteractive',\n",
              "                                                     [key], {});\n",
              "          if (!dataTable) return;\n",
              "\n",
              "          const docLinkHtml = 'Like what you see? Visit the ' +\n",
              "            '<a target=\"_blank\" href=https://colab.research.google.com/notebooks/data_table.ipynb>data table notebook</a>'\n",
              "            + ' to learn more about interactive tables.';\n",
              "          element.innerHTML = '';\n",
              "          dataTable['output_type'] = 'display_data';\n",
              "          await google.colab.output.renderOutput(dataTable, element);\n",
              "          const docLink = document.createElement('div');\n",
              "          docLink.innerHTML = docLinkHtml;\n",
              "          element.appendChild(docLink);\n",
              "        }\n",
              "      </script>\n",
              "    </div>\n",
              "  </div>\n",
              "  "
            ]
          },
          "metadata": {},
          "execution_count": 52
        }
      ],
      "source": [
        "my_data.head()\n",
        "#>   alive smoker\n",
        "#> 0   Yes     No\n",
        "#> 1   Yes     No\n",
        "#> 2   Yes     No\n",
        "#> 3   Yes     No\n",
        "#> 4   Yes     No"
      ]
    },
    {
      "cell_type": "code",
      "execution_count": null,
      "metadata": {
        "id": "pBP7d3cGqEKo",
        "colab": {
          "base_uri": "https://localhost:8080/",
          "height": 142
        },
        "outputId": "4c9124b4-ba7e-457b-ef68-3f280bcdab28"
      },
      "outputs": [
        {
          "output_type": "execute_result",
          "data": {
            "text/plain": [
              "smoker   No  Yes\n",
              "alive           \n",
              "No      117   54\n",
              "Yes     950  348"
            ],
            "text/html": [
              "\n",
              "  <div id=\"df-45120b94-8e02-4e16-8ce1-a4ee586a3e45\">\n",
              "    <div class=\"colab-df-container\">\n",
              "      <div>\n",
              "<style scoped>\n",
              "    .dataframe tbody tr th:only-of-type {\n",
              "        vertical-align: middle;\n",
              "    }\n",
              "\n",
              "    .dataframe tbody tr th {\n",
              "        vertical-align: top;\n",
              "    }\n",
              "\n",
              "    .dataframe thead th {\n",
              "        text-align: right;\n",
              "    }\n",
              "</style>\n",
              "<table border=\"1\" class=\"dataframe\">\n",
              "  <thead>\n",
              "    <tr style=\"text-align: right;\">\n",
              "      <th>smoker</th>\n",
              "      <th>No</th>\n",
              "      <th>Yes</th>\n",
              "    </tr>\n",
              "    <tr>\n",
              "      <th>alive</th>\n",
              "      <th></th>\n",
              "      <th></th>\n",
              "    </tr>\n",
              "  </thead>\n",
              "  <tbody>\n",
              "    <tr>\n",
              "      <th>No</th>\n",
              "      <td>117</td>\n",
              "      <td>54</td>\n",
              "    </tr>\n",
              "    <tr>\n",
              "      <th>Yes</th>\n",
              "      <td>950</td>\n",
              "      <td>348</td>\n",
              "    </tr>\n",
              "  </tbody>\n",
              "</table>\n",
              "</div>\n",
              "      <button class=\"colab-df-convert\" onclick=\"convertToInteractive('df-45120b94-8e02-4e16-8ce1-a4ee586a3e45')\"\n",
              "              title=\"Convert this dataframe to an interactive table.\"\n",
              "              style=\"display:none;\">\n",
              "        \n",
              "  <svg xmlns=\"http://www.w3.org/2000/svg\" height=\"24px\"viewBox=\"0 0 24 24\"\n",
              "       width=\"24px\">\n",
              "    <path d=\"M0 0h24v24H0V0z\" fill=\"none\"/>\n",
              "    <path d=\"M18.56 5.44l.94 2.06.94-2.06 2.06-.94-2.06-.94-.94-2.06-.94 2.06-2.06.94zm-11 1L8.5 8.5l.94-2.06 2.06-.94-2.06-.94L8.5 2.5l-.94 2.06-2.06.94zm10 10l.94 2.06.94-2.06 2.06-.94-2.06-.94-.94-2.06-.94 2.06-2.06.94z\"/><path d=\"M17.41 7.96l-1.37-1.37c-.4-.4-.92-.59-1.43-.59-.52 0-1.04.2-1.43.59L10.3 9.45l-7.72 7.72c-.78.78-.78 2.05 0 2.83L4 21.41c.39.39.9.59 1.41.59.51 0 1.02-.2 1.41-.59l7.78-7.78 2.81-2.81c.8-.78.8-2.07 0-2.86zM5.41 20L4 18.59l7.72-7.72 1.47 1.35L5.41 20z\"/>\n",
              "  </svg>\n",
              "      </button>\n",
              "      \n",
              "  <style>\n",
              "    .colab-df-container {\n",
              "      display:flex;\n",
              "      flex-wrap:wrap;\n",
              "      gap: 12px;\n",
              "    }\n",
              "\n",
              "    .colab-df-convert {\n",
              "      background-color: #E8F0FE;\n",
              "      border: none;\n",
              "      border-radius: 50%;\n",
              "      cursor: pointer;\n",
              "      display: none;\n",
              "      fill: #1967D2;\n",
              "      height: 32px;\n",
              "      padding: 0 0 0 0;\n",
              "      width: 32px;\n",
              "    }\n",
              "\n",
              "    .colab-df-convert:hover {\n",
              "      background-color: #E2EBFA;\n",
              "      box-shadow: 0px 1px 2px rgba(60, 64, 67, 0.3), 0px 1px 3px 1px rgba(60, 64, 67, 0.15);\n",
              "      fill: #174EA6;\n",
              "    }\n",
              "\n",
              "    [theme=dark] .colab-df-convert {\n",
              "      background-color: #3B4455;\n",
              "      fill: #D2E3FC;\n",
              "    }\n",
              "\n",
              "    [theme=dark] .colab-df-convert:hover {\n",
              "      background-color: #434B5C;\n",
              "      box-shadow: 0px 1px 3px 1px rgba(0, 0, 0, 0.15);\n",
              "      filter: drop-shadow(0px 1px 2px rgba(0, 0, 0, 0.3));\n",
              "      fill: #FFFFFF;\n",
              "    }\n",
              "  </style>\n",
              "\n",
              "      <script>\n",
              "        const buttonEl =\n",
              "          document.querySelector('#df-45120b94-8e02-4e16-8ce1-a4ee586a3e45 button.colab-df-convert');\n",
              "        buttonEl.style.display =\n",
              "          google.colab.kernel.accessAllowed ? 'block' : 'none';\n",
              "\n",
              "        async function convertToInteractive(key) {\n",
              "          const element = document.querySelector('#df-45120b94-8e02-4e16-8ce1-a4ee586a3e45');\n",
              "          const dataTable =\n",
              "            await google.colab.kernel.invokeFunction('convertToInteractive',\n",
              "                                                     [key], {});\n",
              "          if (!dataTable) return;\n",
              "\n",
              "          const docLinkHtml = 'Like what you see? Visit the ' +\n",
              "            '<a target=\"_blank\" href=https://colab.research.google.com/notebooks/data_table.ipynb>data table notebook</a>'\n",
              "            + ' to learn more about interactive tables.';\n",
              "          element.innerHTML = '';\n",
              "          dataTable['output_type'] = 'display_data';\n",
              "          await google.colab.output.renderOutput(dataTable, element);\n",
              "          const docLink = document.createElement('div');\n",
              "          docLink.innerHTML = docLinkHtml;\n",
              "          element.appendChild(docLink);\n",
              "        }\n",
              "      </script>\n",
              "    </div>\n",
              "  </div>\n",
              "  "
            ]
          },
          "metadata": {},
          "execution_count": 53
        }
      ],
      "source": [
        "my_table = pd.crosstab(\n",
        "    my_data['alive'],\n",
        "    my_data['smoker'])\n",
        "my_table\n",
        "#> smoker   No  Yes\n",
        "#> alive\n",
        "#> No      117   54\n",
        "#> Yes     950  348"
      ]
    },
    {
      "cell_type": "code",
      "execution_count": null,
      "metadata": {
        "id": "ccJCLswqqEKo",
        "colab": {
          "base_uri": "https://localhost:8080/"
        },
        "outputId": "833d986b-48e7-4c63-99df-17715858bab1"
      },
      "outputs": [
        {
          "output_type": "execute_result",
          "data": {
            "text/plain": [
              "0.18860725715300422"
            ]
          },
          "metadata": {},
          "execution_count": 54
        }
      ],
      "source": [
        "from scipy.stats import chi2_contingency\n",
        "chi2_contingency(my_table, correction=False)[1]\n",
        "#> 0.18860725715300422"
      ]
    },
    {
      "cell_type": "markdown",
      "metadata": {
        "id": "Po3238v_qEKp"
      },
      "source": [
        "### 4.4.5 ブートストラップ\n",
        "\n",
        "#### 4.4.5.1 15回引いて2回当たったくじ(A lottery that wins twice)"
      ]
    },
    {
      "cell_type": "code",
      "execution_count": null,
      "metadata": {
        "id": "NWfovqmhqEKp"
      },
      "outputs": [],
      "source": [
        "import numpy as np\n",
        "X = [0] * 13 + [1] * 2 # 手順1\n",
        "X\n",
        "#> [0, 0, 0, 0, 0, 0, 0, 0, 0, 0, 0, 0, 0, 1, 1]\n",
        "\n",
        "tmp = np.random.choice(X, 15, replace=True) # 手順2\n",
        "tmp\n",
        "#> array([0, 0, 0, 0, 0, 0, 0, 1, 0, 0, 0, 0, 1, 0, 0])\n",
        "\n",
        "sum(tmp) # 手順3\n",
        "#> 2\n",
        "\n",
        "n = 10**5\n",
        "result = [sum(np.random.choice(X, len(X), replace=True)) for _ in range(n)] # 手順4"
      ]
    },
    {
      "cell_type": "code",
      "execution_count": null,
      "metadata": {
        "id": "FDfiYHSXqEKq",
        "colab": {
          "base_uri": "https://localhost:8080/",
          "height": 353
        },
        "outputId": "f8a83b44-3ba5-4f0a-fc1b-fff4170a56a8"
      },
      "outputs": [
        {
          "output_type": "execute_result",
          "data": {
            "text/plain": [
              "(array([1.1925e+04, 2.7055e+04, 2.8804e+04, 1.9079e+04, 9.0920e+03,\n",
              "        3.0680e+03, 7.9900e+02, 1.5300e+02, 2.4000e+01, 1.0000e+00,\n",
              "        0.0000e+00, 0.0000e+00, 0.0000e+00, 0.0000e+00, 0.0000e+00]),\n",
              " array([ 0,  1,  2,  3,  4,  5,  6,  7,  8,  9, 10, 11, 12, 13, 14, 15]),\n",
              " <a list of 15 Patch objects>)"
            ]
          },
          "metadata": {},
          "execution_count": 56
        },
        {
          "output_type": "display_data",
          "data": {
            "text/plain": [
              "<Figure size 432x288 with 1 Axes>"
            ],
            "image/png": "[encoded data removed]"
          },
          "metadata": {
            "needs_background": "light"
          }
        }
      ],
      "source": [
        "import matplotlib.pyplot as plt\n",
        "plt.hist(result, bins=range(0, 16))"
      ]
    },
    {
      "cell_type": "code",
      "execution_count": null,
      "metadata": {
        "id": "t5wAZcZMqEKq",
        "colab": {
          "base_uri": "https://localhost:8080/"
        },
        "outputId": "3da8449e-0076-485c-a1f0-ea796ba3a57e"
      },
      "outputs": [
        {
          "output_type": "execute_result",
          "data": {
            "text/plain": [
              "array([0., 5.])"
            ]
          },
          "metadata": {},
          "execution_count": 57
        }
      ],
      "source": [
        "np.quantile(result, [0.025, 0.975])\n",
        "#> array([0., 5.])"
      ]
    },
    {
      "cell_type": "markdown",
      "metadata": {
        "id": "XVhv0n_1qEKr"
      },
      "source": [
        "#### 4.4.5.2 平均の差の信頼区間(confidence interval for the mean difference)"
      ]
    },
    {
      "cell_type": "code",
      "execution_count": null,
      "metadata": {
        "id": "KT4wXAdGqEKr",
        "colab": {
          "base_uri": "https://localhost:8080/"
        },
        "outputId": "66421a85-385f-486a-b558-25bd7265333c"
      },
      "outputs": [
        {
          "output_type": "execute_result",
          "data": {
            "text/plain": [
              "array([-3.88666667, -1.55333333])"
            ]
          },
          "metadata": {},
          "execution_count": 58
        }
      ],
      "source": [
        "import numpy as np\n",
        "X = [32.1, 26.2, 27.5, 31.8, 32.1, 31.2, 30.1, 32.4, 32.3, 29.9,\n",
        "     29.6, 26.6, 31.2, 30.9, 29.3]\n",
        "Y = [35.4, 34.6, 31.1, 32.4, 33.3, 34.7, 35.3, 34.3, 32.1, 28.3,\n",
        "     33.3, 30.5, 32.6, 33.3, 32.2]\n",
        "Z = np.array(X) - np.array(Y) # 対標本として扱う．\n",
        "\n",
        "n = 10**5\n",
        "result = [np.random.choice(Z, len(Z), replace=True).mean() for _ in range(n)]\n",
        "\n",
        "np.quantile(result, [0.025, 0.975])\n",
        "#> array([-3.88666667, -1.55333333])"
      ]
    },
    {
      "cell_type": "code",
      "execution_count": null,
      "metadata": {
        "id": "N_5BdDZrqEKr",
        "colab": {
          "base_uri": "https://localhost:8080/",
          "height": 418
        },
        "outputId": "6dbce2f9-17ec-49c4-9ec5-7a25a5966f2d"
      },
      "outputs": [
        {
          "output_type": "execute_result",
          "data": {
            "text/plain": [
              "(array([1.1000e+01, 6.2000e+01, 2.1400e+02, 7.4200e+02, 1.9100e+03,\n",
              "        4.3900e+03, 8.6160e+03, 1.4480e+04, 1.8043e+04, 1.8964e+04,\n",
              "        1.6025e+04, 9.5270e+03, 4.6890e+03, 1.7060e+03, 5.0400e+02,\n",
              "        1.0300e+02, 1.2000e+01, 2.0000e+00]),\n",
              " array([-5.28666667, -4.99814815, -4.70962963, -4.42111111, -4.13259259,\n",
              "        -3.84407407, -3.55555556, -3.26703704, -2.97851852, -2.69      ,\n",
              "        -2.40148148, -2.11296296, -1.82444444, -1.53592593, -1.24740741,\n",
              "        -0.95888889, -0.67037037, -0.38185185, -0.09333333]),\n",
              " <a list of 18 Patch objects>)"
            ]
          },
          "metadata": {},
          "execution_count": 59
        },
        {
          "output_type": "display_data",
          "data": {
            "text/plain": [
              "<Figure size 432x288 with 1 Axes>"
            ],
            "image/png": "[encoded data removed]"
          },
          "metadata": {
            "needs_background": "light"
          }
        }
      ],
      "source": [
        "plt.hist(result, bins='sturges')"
      ]
    },
    {
      "cell_type": "code",
      "execution_count": null,
      "metadata": {
        "id": "OifI66g_qEKs",
        "colab": {
          "base_uri": "https://localhost:8080/"
        },
        "outputId": "7dc6862f-dc6b-4d73-9931-7e152f7b5a15"
      },
      "outputs": [
        {
          "output_type": "execute_result",
          "data": {
            "text/plain": [
              "array([-4.05333333, -1.30666667])"
            ]
          },
          "metadata": {},
          "execution_count": 60
        }
      ],
      "source": [
        "result = [np.random.choice(X, len(X), replace=True).mean() -\n",
        "          np.random.choice(Y, len(Y), replace=True).mean()\n",
        "          for _ in range(n)]\n",
        "np.quantile(result, [0.025, 0.975])\n",
        "#> array([-4.06, -1.3 ])"
      ]
    }
  ]
}
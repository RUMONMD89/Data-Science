{
  "nbformat": 4,
  "nbformat_minor": 0,
  "metadata": {
    "colab": {
      "provenance": [],
      "include_colab_link": true
    },
    "kernelspec": {
      "name": "python3",
      "display_name": "Python 3"
    },
    "language_info": {
      "name": "python"
    }
  },
  "cells": [
    {
      "cell_type": "markdown",
      "metadata": {
        "id": "view-in-github",
        "colab_type": "text"
      },
      "source": [
        "<a href=\"https://colab.research.google.com/github/RUMONMD89/Data-Science/blob/main/class%202%20Collection.ipynb\" target=\"_parent\"><img src=\"https://colab.research.google.com/assets/colab-badge.svg\" alt=\"Open In Colab\"/></a>"
      ]
    },
    {
      "cell_type": "markdown",
      "metadata": {
        "id": "eLo7oMsRhDy_"
      },
      "source": [
        "## 3.6 Rのパッケージ，Pythonのモジュール\n",
        "\n",
        "### 3.6.1 Rのパッケージ\n",
        "\n",
        "### 3.6.2 Pythonのモジュール"
      ]
    },
    {
      "cell_type": "code",
      "execution_count": 2,
      "metadata": {
        "id": "LRddwJ15hDzA"
      },
      "outputs": [],
      "source": [
        "import math\n",
        "import numpy as np\n",
        "import pandas as pd"
      ]
    },
    {
      "cell_type": "code",
      "execution_count": 3,
      "metadata": {
        "id": "yrWXzUm5hDzA",
        "colab": {
          "base_uri": "https://localhost:8080/"
        },
        "outputId": "3e613ac4-6081-488d-e229-64c4fa328363"
      },
      "outputs": [
        {
          "output_type": "execute_result",
          "data": {
            "text/plain": [
              "array([1, 2, 3, 4])"
            ]
          },
          "metadata": {},
          "execution_count": 3
        }
      ],
      "source": [
        "import numpy\n",
        "numpy.array([1, 2, 3, 4])"
      ]
    },
    {
      "cell_type": "code",
      "execution_count": 32,
      "metadata": {
        "id": "d0wBRQJZhDzA",
        "colab": {
          "base_uri": "https://localhost:8080/"
        },
        "outputId": "e2f6422f-c705-4ec0-859c-1ab99234e18f"
      },
      "outputs": [
        {
          "output_type": "execute_result",
          "data": {
            "text/plain": [
              "array([1, 2, 3, 4])"
            ]
          },
          "metadata": {},
          "execution_count": 32
        }
      ],
      "source": [
        "import numpy as np\n",
        "np.array([1, 2, 3, 4])"
      ]
    },
    {
      "cell_type": "code",
      "execution_count": 4,
      "metadata": {
        "id": "P0wYjc3rhDzB",
        "colab": {
          "base_uri": "https://localhost:8080/"
        },
        "outputId": "bdd87406-ff36-4645-df42-691a7d15912d"
      },
      "outputs": [
        {
          "output_type": "execute_result",
          "data": {
            "text/plain": [
              "array([1, 2, 3, 4])"
            ]
          },
          "metadata": {},
          "execution_count": 4
        }
      ],
      "source": [
        "from numpy import array\n",
        "array([1, 2, 3, 4])"
      ]
    },
    {
      "cell_type": "code",
      "execution_count": 34,
      "metadata": {
        "id": "P-Xv-5dQhDzB",
        "colab": {
          "base_uri": "https://localhost:8080/"
        },
        "outputId": "ecad7bbc-a853-4655-c4af-40cfceec018f"
      },
      "outputs": [
        {
          "output_type": "execute_result",
          "data": {
            "text/plain": [
              "array([1, 2, 3, 4])"
            ]
          },
          "metadata": {},
          "execution_count": 34
        }
      ],
      "source": [
        "from numpy import *\n",
        "array([1, 2, 3, 4])"
      ]
    },
    {
      "cell_type": "markdown",
      "metadata": {
        "id": "v4XyCeNwhDyb"
      },
      "source": [
        "## 3.3 コレクション\n",
        "\n",
        "### 3.3.1 1次元データ"
      ]
    },
    {
      "cell_type": "code",
      "execution_count": 6,
      "metadata": {
        "id": "KSnPEgsLhDyb"
      },
      "outputs": [],
      "source": [
        "x = ['foo', 'bar', 'baz']"
      ]
    },
    {
      "cell_type": "code",
      "execution_count": 7,
      "metadata": {
        "id": "mqU7oM4GhDyb",
        "colab": {
          "base_uri": "https://localhost:8080/"
        },
        "outputId": "2d0993a5-8df5-4b66-f30f-ec265e71060d"
      },
      "outputs": [
        {
          "output_type": "execute_result",
          "data": {
            "text/plain": [
              "3"
            ]
          },
          "metadata": {},
          "execution_count": 7
        }
      ],
      "source": [
        "len(x)\n",
        "#> 3"
      ]
    },
    {
      "cell_type": "code",
      "execution_count": 8,
      "metadata": {
        "id": "zMW7zalshDyc",
        "colab": {
          "base_uri": "https://localhost:8080/",
          "height": 36
        },
        "outputId": "166c3de5-eb7b-4202-8609-c7a775fde1d0"
      },
      "outputs": [
        {
          "output_type": "execute_result",
          "data": {
            "text/plain": [
              "'bar'"
            ],
            "application/vnd.google.colaboratory.intrinsic+json": {
              "type": "string"
            }
          },
          "metadata": {},
          "execution_count": 8
        }
      ],
      "source": [
        "x[1]\n",
        "#> 'bar'"
      ]
    },
    {
      "cell_type": "code",
      "execution_count": 35,
      "metadata": {
        "id": "ekTzCv8ChDyc"
      },
      "outputs": [],
      "source": [
        "x[1] = 'BAR'\n",
        "x # 結果の確認\n",
        "#> ['foo', 'BAR', 'baz']\n",
        "\n",
        "x[1] = 'bar' # 元に戻す．"
      ]
    },
    {
      "cell_type": "code",
      "execution_count": 38,
      "metadata": {
        "id": "zko7R36UhDyd",
        "colab": {
          "base_uri": "https://localhost:8080/",
          "height": 36
        },
        "outputId": "43027372-c9ad-4cbb-8fa8-5175da9b1313"
      },
      "outputs": [
        {
          "output_type": "execute_result",
          "data": {
            "text/plain": [
              "'bar'"
            ],
            "application/vnd.google.colaboratory.intrinsic+json": {
              "type": "string"
            }
          },
          "metadata": {},
          "execution_count": 38
        }
      ],
      "source": [
        "x[-2]\n",
        "#> 'bar' x[-1]=baz, x[-3]=foo"
      ]
    },
    {
      "cell_type": "code",
      "execution_count": 40,
      "metadata": {
        "id": "YeECPGUwhDyd",
        "colab": {
          "base_uri": "https://localhost:8080/"
        },
        "outputId": "9fcf7c78-586d-4d71-8cd6-5532b32dfcd9"
      },
      "outputs": [
        {
          "output_type": "execute_result",
          "data": {
            "text/plain": [
              "['foo', 'bar', 'baz', 'qux']"
            ]
          },
          "metadata": {},
          "execution_count": 40
        }
      ],
      "source": [
        "x + ['qux']\n",
        "#> ['foo', 'bar', 'baz', 'qux']"
      ]
    },
    {
      "cell_type": "code",
      "execution_count": 12,
      "metadata": {
        "id": "q4ai2I6yhDyd",
        "colab": {
          "base_uri": "https://localhost:8080/"
        },
        "outputId": "0cf3275a-7b24-4333-836b-702f28c2a0d1"
      },
      "outputs": [
        {
          "output_type": "execute_result",
          "data": {
            "text/plain": [
              "['foo', 'bar', 'baz', 'qux']"
            ]
          },
          "metadata": {},
          "execution_count": 12
        }
      ],
      "source": [
        "x = x + ['qux']\n",
        "# あるいは\n",
        "#x.append('qux')\n",
        "\n",
        "x # 結果の確認\n",
        "#> ['foo', 'bar', 'baz', 'qux']"
      ]
    },
    {
      "cell_type": "markdown",
      "metadata": {
        "id": "OSZDxugzhDye"
      },
      "source": [
        "#### 3.3.1.1 等間隔の数値からなる1次元データ(One-dimensional data consisting of evenly spaced numbers)"
      ]
    },
    {
      "cell_type": "code",
      "execution_count": 13,
      "metadata": {
        "id": "BpGWCyq1hDye",
        "colab": {
          "base_uri": "https://localhost:8080/"
        },
        "outputId": "da068005-2e02-4fc5-ecd7-b67a094bb298"
      },
      "outputs": [
        {
          "output_type": "execute_result",
          "data": {
            "text/plain": [
              "[0, 1, 2, 3, 4]"
            ]
          },
          "metadata": {},
          "execution_count": 13
        }
      ],
      "source": [
        "list(range(5))\n",
        "#> [0, 1, 2, 3, 4]"
      ]
    },
    {
      "cell_type": "code",
      "execution_count": 14,
      "metadata": {
        "id": "PqW-KwUhhDye",
        "colab": {
          "base_uri": "https://localhost:8080/"
        },
        "outputId": "af5ce772-132b-4c63-ecb5-56a02d8eeefc"
      },
      "outputs": [
        {
          "output_type": "execute_result",
          "data": {
            "text/plain": [
              "[0, 2, 4, 6, 8, 10]"
            ]
          },
          "metadata": {},
          "execution_count": 14
        }
      ],
      "source": [
        "list(range(0, 11, 2))\n",
        "#> [0, 2, 4, 6, 8, 10]"
      ]
    },
    {
      "cell_type": "code",
      "execution_count": 15,
      "metadata": {
        "id": "yAUycQB6hDyf",
        "colab": {
          "base_uri": "https://localhost:8080/"
        },
        "outputId": "951452c7-dc79-4501-d024-064f410eaa80"
      },
      "outputs": [
        {
          "output_type": "execute_result",
          "data": {
            "text/plain": [
              "array([0. , 0.5, 1. ])"
            ]
          },
          "metadata": {},
          "execution_count": 15
        }
      ],
      "source": [
        "import numpy as np\n",
        "np.arange(0, 1.1, 0.5)\n",
        "#> array([0. , 0.5, 1. ])"
      ]
    },
    {
      "cell_type": "code",
      "execution_count": 16,
      "metadata": {
        "id": "8UJLAfaEhDyf",
        "colab": {
          "base_uri": "https://localhost:8080/"
        },
        "outputId": "47508885-15ad-45cd-814e-f05eac4185d7"
      },
      "outputs": [
        {
          "output_type": "execute_result",
          "data": {
            "text/plain": [
              "array([  0.,  25.,  50.,  75., 100.])"
            ]
          },
          "metadata": {},
          "execution_count": 16
        }
      ],
      "source": [
        "np.linspace(0, 100, 5)\n",
        "#> array([ 0., 25., 50., 75., 100.])"
      ]
    },
    {
      "cell_type": "code",
      "execution_count": 17,
      "metadata": {
        "id": "FWyIl2m3hDyf",
        "colab": {
          "base_uri": "https://localhost:8080/"
        },
        "outputId": "b6698295-26d9-4c25-ef31-17dbb2e00da2"
      },
      "outputs": [
        {
          "output_type": "execute_result",
          "data": {
            "text/plain": [
              "[10, 10, 10, 10, 10]"
            ]
          },
          "metadata": {},
          "execution_count": 17
        }
      ],
      "source": [
        "[10] * 5\n",
        "#> [10, 10, 10, 10, 10]"
      ]
    },
    {
      "cell_type": "markdown",
      "metadata": {
        "id": "ftS9YinnhDyf"
      },
      "source": [
        "#### 3.3.1.2 ファクタ（Rのみ）\n",
        "\n",
        "### 3.3.2 数値計算やデータ解析用の1次元データ(One-dimensional data for numerical calculations and data analysis)"
      ]
    },
    {
      "cell_type": "code",
      "execution_count": 18,
      "metadata": {
        "id": "j5EKuZeahDyg",
        "colab": {
          "base_uri": "https://localhost:8080/"
        },
        "outputId": "f5f104a2-a9fe-431a-c9b8-a07a47c8af1a"
      },
      "outputs": [
        {
          "output_type": "execute_result",
          "data": {
            "text/plain": [
              "array([20, 30, 50, 70])"
            ]
          },
          "metadata": {},
          "execution_count": 18
        }
      ],
      "source": [
        "import numpy as np\n",
        "x = np.array([2, 3, 5, 7])\n",
        "\n",
        "x + 10 # 加算\n",
        "#> array([12, 13, 15, 17])\n",
        "\n",
        "x * 10 # 乗算\n",
        "#> array([20, 30, 50, 70])"
      ]
    },
    {
      "cell_type": "code",
      "execution_count": 41,
      "metadata": {
        "id": "BVhsUAFthDyg",
        "colab": {
          "base_uri": "https://localhost:8080/"
        },
        "outputId": "e4b64fd4-8bda-410d-b2ce-dae14f3984b5"
      },
      "outputs": [
        {
          "output_type": "execute_result",
          "data": {
            "text/plain": [
              "array([0.90929743, 0.14112001])"
            ]
          },
          "metadata": {},
          "execution_count": 41
        }
      ],
      "source": [
        "x = [2, 3]\n",
        "np.sin(x)\n",
        "#> array([0.90929743, 0.14112001])"
      ]
    },
    {
      "cell_type": "code",
      "execution_count": 20,
      "metadata": {
        "id": "ykx66UqlhDyh",
        "colab": {
          "base_uri": "https://localhost:8080/"
        },
        "outputId": "3858efe3-8edd-4b35-ed7c-4ed54ad08837"
      },
      "outputs": [
        {
          "output_type": "execute_result",
          "data": {
            "text/plain": [
              "array([   2,   30,  500, 7000])"
            ]
          },
          "metadata": {},
          "execution_count": 20
        }
      ],
      "source": [
        "x = np.array([2,  3,   5,    7])\n",
        "y = np.array([1, 10, 100, 1000])\n",
        "x + y\n",
        "#> array([   3,   13,  105, 1007])\n",
        "\n",
        "x * y\n",
        "#> array([   2,   30,  500, 7000])"
      ]
    },
    {
      "cell_type": "code",
      "execution_count": 21,
      "metadata": {
        "id": "BkAzcfUGhDyh",
        "colab": {
          "base_uri": "https://localhost:8080/"
        },
        "outputId": "65b24f38-eb3c-442c-d176-501399cc2f64"
      },
      "outputs": [
        {
          "output_type": "execute_result",
          "data": {
            "text/plain": [
              "7532"
            ]
          },
          "metadata": {},
          "execution_count": 21
        }
      ],
      "source": [
        "np.dot(x, y)\n",
        "# あるいは\n",
        "x @ y\n",
        "\n",
        "#> 7532"
      ]
    },
    {
      "cell_type": "code",
      "execution_count": 22,
      "metadata": {
        "id": "gE246DcVhDyi",
        "colab": {
          "base_uri": "https://localhost:8080/"
        },
        "outputId": "7129c212-2a06-44f1-ec3a-407aa00eae0d"
      },
      "outputs": [
        {
          "output_type": "execute_result",
          "data": {
            "text/plain": [
              "array([ True, False])"
            ]
          },
          "metadata": {},
          "execution_count": 22
        }
      ],
      "source": [
        "x = np.array([True, False])\n",
        "y = np.array([True, True])\n",
        "x & y\n",
        "#> array([ True, False])"
      ]
    },
    {
      "cell_type": "markdown",
      "metadata": {
        "id": "xw4HYX_ZhDyi"
      },
      "source": [
        "#### 3.3.2.1 1次元データ同士の比較(Comparison between 1D data)"
      ]
    },
    {
      "cell_type": "code",
      "execution_count": 23,
      "metadata": {
        "id": "oV3wqO_xhDyj",
        "colab": {
          "base_uri": "https://localhost:8080/"
        },
        "outputId": "54c0b042-3e24-4a21-e60c-d9aebb6e5920"
      },
      "outputs": [
        {
          "output_type": "execute_result",
          "data": {
            "text/plain": [
              "array([ True,  True, False])"
            ]
          },
          "metadata": {},
          "execution_count": 23
        }
      ],
      "source": [
        "u = np.array([1, 2, 3])\n",
        "v = np.array([1, 2, 3])\n",
        "w = np.array([1, 2, 4])\n",
        "\n",
        "all(u == v) # 全体の比較\n",
        "#> True\n",
        "\n",
        "all(u == w) # 全体の比較\n",
        "#> False\n",
        "\n",
        "u == v      # 要素ごとの比較(Element-wise comparison)\n",
        "#> array([ True,  True,  True])\n",
        "\n",
        "u == w      # 要素ごとの比較\n",
        "#> array([ True,  True, False])"
      ]
    },
    {
      "cell_type": "code",
      "execution_count": 24,
      "metadata": {
        "id": "CD_GgNvmhDyj",
        "colab": {
          "base_uri": "https://localhost:8080/"
        },
        "outputId": "07f0e578-c78e-46bb-a09c-6b3547a062db"
      },
      "outputs": [
        {
          "output_type": "execute_result",
          "data": {
            "text/plain": [
              "0.6666666666666666"
            ]
          },
          "metadata": {},
          "execution_count": 24
        }
      ],
      "source": [
        "(u == w).sum()  # 同じ要素の数(number of identical elements)\n",
        "#> 2\n",
        "\n",
        "(u == w).mean() # 同じ要素の割合\n",
        "#> [1] 0.6666667"
      ]
    },
    {
      "cell_type": "markdown",
      "metadata": {
        "id": "xTGbzqjBhDyk"
      },
      "source": [
        "### 3.3.3 複数種類のデータをひとまとめにする(Combine multiple types of data)"
      ]
    },
    {
      "cell_type": "code",
      "execution_count": 25,
      "metadata": {
        "id": "hBFCtWudhDyk"
      },
      "outputs": [],
      "source": [
        "x = [1, \"two\"]"
      ]
    },
    {
      "cell_type": "code",
      "execution_count": 26,
      "metadata": {
        "id": "CtOKs4rxhDyk",
        "colab": {
          "base_uri": "https://localhost:8080/",
          "height": 36
        },
        "outputId": "b6550ea6-937d-41f5-e186-ce72bc0f99b6"
      },
      "outputs": [
        {
          "output_type": "execute_result",
          "data": {
            "text/plain": [
              "'two'"
            ],
            "application/vnd.google.colaboratory.intrinsic+json": {
              "type": "string"
            }
          },
          "metadata": {},
          "execution_count": 26
        }
      ],
      "source": [
        "x[1]\n",
        "#> 'two'"
      ]
    },
    {
      "cell_type": "code",
      "source": [],
      "metadata": {
        "id": "VauzHsEf59jm"
      },
      "execution_count": null,
      "outputs": []
    },
    {
      "cell_type": "markdown",
      "metadata": {
        "id": "Qd_njWR0hDyl"
      },
      "source": [
        "### 3.3.4 文字列と値のペアのコレクション(A collection of string-value pairs)"
      ]
    },
    {
      "cell_type": "code",
      "execution_count": 27,
      "metadata": {
        "id": "IxQsrm04hDyl"
      },
      "outputs": [],
      "source": [
        "x = {'apple' : 'りんご',\n",
        "     'orange': 'みかん'}"
      ]
    },
    {
      "cell_type": "code",
      "execution_count": 28,
      "metadata": {
        "id": "9lCpb1FghDym"
      },
      "outputs": [],
      "source": [
        "x['grape'] = 'ぶどう'"
      ]
    },
    {
      "cell_type": "code",
      "execution_count": 29,
      "metadata": {
        "id": "c46BAbQvhDym",
        "colab": {
          "base_uri": "https://localhost:8080/",
          "height": 36
        },
        "outputId": "5a8fb343-936f-4893-8d0b-14bbcc669d85"
      },
      "outputs": [
        {
          "output_type": "execute_result",
          "data": {
            "text/plain": [
              "'りんご'"
            ],
            "application/vnd.google.colaboratory.intrinsic+json": {
              "type": "string"
            }
          },
          "metadata": {},
          "execution_count": 29
        }
      ],
      "source": [
        "x['apple']\n",
        "# あるいは\n",
        "tmp = 'apple'\n",
        "x[tmp]\n",
        "\n",
        "#> 'りんご'"
      ]
    },
    {
      "cell_type": "markdown",
      "metadata": {
        "id": "Q89h26JNhDyn"
      },
      "source": [
        "### 3.3.5 補足：コピーと参照(Side note: copy and reference)"
      ]
    },
    {
      "cell_type": "code",
      "execution_count": 30,
      "metadata": {
        "id": "xOqxPGvxhDyn",
        "colab": {
          "base_uri": "https://localhost:8080/"
        },
        "outputId": "7ad29438-de78-4fcc-d9e1-068aecfbb741"
      },
      "outputs": [
        {
          "output_type": "execute_result",
          "data": {
            "text/plain": [
              "['foo', 'BAR', 'baz']"
            ]
          },
          "metadata": {},
          "execution_count": 30
        }
      ],
      "source": [
        "x = ['foo', 'bar', 'baz']\n",
        "y = x\n",
        "y[1] = 'BAR' # yを更新する．\n",
        "y\n",
        "#> ['foo', 'BAR', 'baz']\n",
        "\n",
        "x            # xも変わる．\n",
        "#> ['foo', 'BAR', 'baz']"
      ]
    },
    {
      "cell_type": "code",
      "execution_count": 31,
      "metadata": {
        "id": "2pYCU_S3hDyo",
        "colab": {
          "base_uri": "https://localhost:8080/"
        },
        "outputId": "9755c698-279e-4161-933f-0b7a5cdcf5b8"
      },
      "outputs": [
        {
          "output_type": "execute_result",
          "data": {
            "text/plain": [
              "['foo', 'bar', 'baz']"
            ]
          },
          "metadata": {},
          "execution_count": 31
        }
      ],
      "source": [
        "x = ['foo', 'bar', 'baz']\n",
        "y = x.copy()             # 「y = x」とせずに，コピーする．\n",
        "x == y, x is y\n",
        "#> (True, False)         # xとyは，等価（内容は同じ）だが同一ではない．\n",
        "\n",
        "y[1] = 'BAR'             # yを更新しても，\n",
        "x\n",
        "#> ['foo', 'bar', 'baz'] # xは変化しない．"
      ]
    }
  ]
}
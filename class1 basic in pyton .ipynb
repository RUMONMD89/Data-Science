{
 "cells": [
  {
   "cell_type": "markdown",
   "metadata": {
    "id": "VQnAiwj9hDyB"
   },
   "source": [
    "# 03\n",
    "\n",
    "## 3.1 入門\n",
    "\n",
    "### 3.1.1 数値"
   ]
  },
  {
   "cell_type": "code",
   "execution_count": 1,
   "metadata": {
    "colab": {
     "base_uri": "https://localhost:8080/"
    },
    "id": "rCZnbvp3hDyE",
    "outputId": "4a825e36-812f-4233-f10f-2ac5cebd33d5"
   },
   "outputs": [
    {
     "data": {
      "text/plain": [
       "16"
      ]
     },
     "execution_count": 1,
     "metadata": {},
     "output_type": "execute_result"
    }
   ],
   "source": [
    "0x10\n",
    "#> 16"
   ]
  },
  {
   "cell_type": "code",
   "execution_count": 2,
   "metadata": {
    "colab": {
     "base_uri": "https://localhost:8080/"
    },
    "id": "4DiL-MkXhDyF",
    "outputId": "a3780092-a9ff-4a13-9403-91819579d3ae"
   },
   "outputs": [
    {
     "data": {
      "text/plain": [
       "123000.0"
      ]
     },
     "execution_count": 2,
     "metadata": {},
     "output_type": "execute_result"
    }
   ],
   "source": [
    "1.23e5\n",
    "#> 123000.0"
   ]
  },
  {
   "cell_type": "code",
   "execution_count": 3,
   "metadata": {
    "colab": {
     "base_uri": "https://localhost:8080/"
    },
    "id": "_ss5ePMEhDyH",
    "outputId": "284d1f12-a712-4b4a-defc-d0763061456d"
   },
   "outputs": [
    {
     "data": {
      "text/plain": [
       "6"
      ]
     },
     "execution_count": 3,
     "metadata": {},
     "output_type": "execute_result"
    }
   ],
   "source": [
    "2 * 3\n",
    "#> 6"
   ]
  },
  {
   "cell_type": "code",
   "execution_count": 4,
   "metadata": {
    "colab": {
     "base_uri": "https://localhost:8080/"
    },
    "id": "EPQqa8bchDyH",
    "outputId": "7f97859b-80c0-4095-a7c7-0f2b0010b08c"
   },
   "outputs": [
    {
     "data": {
      "text/plain": [
       "3.3333333333333335"
      ]
     },
     "execution_count": 4,
     "metadata": {},
     "output_type": "execute_result"
    }
   ],
   "source": [
    "10 / 3\n",
    "#> 3.3333333333333335"
   ]
  },
  {
   "cell_type": "code",
   "execution_count": 5,
   "metadata": {
    "colab": {
     "base_uri": "https://localhost:8080/"
    },
    "id": "MVy_4w7GhDyI",
    "outputId": "ccf69c36-01e3-4c16-db3f-9c7b05e0fcb4"
   },
   "outputs": [
    {
     "data": {
      "text/plain": [
       "1"
      ]
     },
     "execution_count": 5,
     "metadata": {},
     "output_type": "execute_result"
    }
   ],
   "source": [
    "10 // 3 # 商\n",
    "#> 3\n",
    "\n",
    "10 % 3  # 余り\n",
    "#> 1"
   ]
  },
  {
   "cell_type": "markdown",
   "metadata": {
    "id": "qcb2XoFbhDyJ"
   },
   "source": [
    "### 3.1.2 変数"
   ]
  },
  {
   "cell_type": "code",
   "execution_count": 6,
   "metadata": {
    "colab": {
     "base_uri": "https://localhost:8080/"
    },
    "id": "bsCSykXghDyK",
    "outputId": "b49fb0ba-052b-444f-e91e-98d7e013de4f"
   },
   "outputs": [
    {
     "data": {
      "text/plain": [
       "600"
      ]
     },
     "execution_count": 6,
     "metadata": {},
     "output_type": "execute_result"
    }
   ],
   "source": [
    "x = 2\n",
    "y = 3\n",
    "x * y\n",
    "#> 6\n",
    "\n",
    "x, y = 20, 30 # まとめて名付け\n",
    "x * y\n",
    "#> 600"
   ]
  },
  {
   "cell_type": "code",
   "execution_count": 7,
   "metadata": {
    "colab": {
     "base_uri": "https://localhost:8080/"
    },
    "id": "RNu9jowBhDyL",
    "outputId": "1ae56549-5b50-42ee-f794-fa440d8f6ea1"
   },
   "outputs": [
    {
     "data": {
      "text/plain": [
       "2"
      ]
     },
     "execution_count": 7,
     "metadata": {},
     "output_type": "execute_result"
    }
   ],
   "source": [
    "x = 1 + 1\n",
    "# この段階では結果は表示されない\n",
    "\n",
    "x # 変数名を評価する．\n",
    "#> 2"
   ]
  },
  {
   "cell_type": "markdown",
   "metadata": {
    "id": "5DxwkzQThDyM"
   },
   "source": [
    "### 3.1.3 文字列"
   ]
  },
  {
   "cell_type": "code",
   "execution_count": 8,
   "metadata": {
    "id": "GjLa2QDShDyN"
   },
   "outputs": [],
   "source": [
    "my_s = 'abcde'"
   ]
  },
  {
   "cell_type": "code",
   "execution_count": 9,
   "metadata": {
    "colab": {
     "base_uri": "https://localhost:8080/"
    },
    "id": "YGRacZ9ihDyN",
    "outputId": "192533d0-3b1e-4010-aaef-106f395b7a2c"
   },
   "outputs": [
    {
     "data": {
      "text/plain": [
       "5"
      ]
     },
     "execution_count": 9,
     "metadata": {},
     "output_type": "execute_result"
    }
   ],
   "source": [
    "len(my_s)\n",
    "#> 5"
   ]
  },
  {
   "cell_type": "code",
   "execution_count": 10,
   "metadata": {
    "colab": {
     "base_uri": "https://localhost:8080/",
     "height": 37
    },
    "id": "AJdF8wcWhDyO",
    "outputId": "84c1c7af-7c1f-48e7-aa9d-028ad3008b2e"
   },
   "outputs": [
    {
     "data": {
      "application/vnd.google.colaboratory.intrinsic+json": {
       "type": "string"
      },
      "text/plain": [
       "'This is a pen.'"
      ]
     },
     "execution_count": 10,
     "metadata": {},
     "output_type": "execute_result"
    }
   ],
   "source": [
    "'This is' ' a' ' pen.'\n",
    "# あるいは\n",
    "'This is ' + 'a' + ' pen.'\n",
    "#> 'This is a pen.'"
   ]
  },
  {
   "cell_type": "code",
   "execution_count": 11,
   "metadata": {
    "colab": {
     "base_uri": "https://localhost:8080/",
     "height": 37
    },
    "id": "MLw6sIX_hDyP",
    "outputId": "c348c193-9c41-4140-b282-a2e84a8c4876"
   },
   "outputs": [
    {
     "data": {
      "application/vnd.google.colaboratory.intrinsic+json": {
       "type": "string"
      },
      "text/plain": [
       "'bcd'"
      ]
     },
     "execution_count": 11,
     "metadata": {},
     "output_type": "execute_result"
    }
   ],
   "source": [
    "my_s[1:4]\n",
    "#> 'bcd'"
   ]
  },
  {
   "cell_type": "code",
   "execution_count": 12,
   "metadata": {
    "colab": {
     "base_uri": "https://localhost:8080/",
     "height": 37
    },
    "id": "_Uee677yhDyP",
    "outputId": "72affda4-fcdf-44b6-92eb-39ce188dc4ba"
   },
   "outputs": [
    {
     "data": {
      "application/vnd.google.colaboratory.intrinsic+json": {
       "type": "string"
      },
      "text/plain": [
       "'This is a pen.'"
      ]
     },
     "execution_count": 12,
     "metadata": {},
     "output_type": "execute_result"
    }
   ],
   "source": [
    "tmp = \"{} is {}.\"\n",
    "tmp.format('This', 'a pen')\n",
    "#> 'This is a pen.'"
   ]
  },
  {
   "cell_type": "markdown",
   "metadata": {
    "id": "GWE5-4j_hDyQ"
   },
   "source": [
    "### 3.1.4 論理値"
   ]
  },
  {
   "cell_type": "code",
   "execution_count": 13,
   "metadata": {
    "colab": {
     "base_uri": "https://localhost:8080/"
    },
    "id": "gaYM6x6LhDyQ",
    "outputId": "2d57a454-415e-4b3f-98ec-da8c4466827c"
   },
   "outputs": [
    {
     "data": {
      "text/plain": [
       "False"
      ]
     },
     "execution_count": 13,
     "metadata": {},
     "output_type": "execute_result"
    }
   ],
   "source": [
    "1 <= 2\n",
    "#> True\n",
    "\n",
    "1 < 0\n",
    "#> False"
   ]
  },
  {
   "cell_type": "code",
   "execution_count": 14,
   "metadata": {
    "colab": {
     "base_uri": "https://localhost:8080/"
    },
    "id": "faXTMbA9hDyR",
    "outputId": "332fc30a-46a1-4bf2-a853-c972a9e01f99"
   },
   "outputs": [
    {
     "data": {
      "text/plain": [
       "True"
      ]
     },
     "execution_count": 14,
     "metadata": {},
     "output_type": "execute_result"
    }
   ],
   "source": [
    "0.1 + 0.1 + 0.1 == 0.3\n",
    "#> False\n",
    "\n",
    "import math\n",
    "math.isclose(0.1 + 0.1 + 0.1, 0.3)\n",
    "#> True"
   ]
  },
  {
   "cell_type": "code",
   "execution_count": 15,
   "metadata": {
    "colab": {
     "base_uri": "https://localhost:8080/"
    },
    "id": "9MsV44OohDyS",
    "outputId": "24b8b000-04c4-4a4a-a6f0-821bc8d65afa"
   },
   "outputs": [
    {
     "data": {
      "text/plain": [
       "False"
      ]
     },
     "execution_count": 15,
     "metadata": {},
     "output_type": "execute_result"
    }
   ],
   "source": [
    "True and False # 論理積（かつ）\n",
    "#> False\n",
    "\n",
    "True or False  # 論理和（または）\n",
    "#> True\n",
    "\n",
    "not True       # 否定（でない）\n",
    "#> False"
   ]
  },
  {
   "cell_type": "markdown",
   "metadata": {
    "id": "oYsJgy5EhDyS"
   },
   "source": [
    "#### 3.1.4.1 条件演算子"
   ]
  },
  {
   "cell_type": "code",
   "execution_count": 16,
   "metadata": {
    "colab": {
     "base_uri": "https://localhost:8080/"
    },
    "id": "y0bBvglWhDyS",
    "outputId": "ffefcf6e-0728-429d-d737-203881051f35"
   },
   "outputs": [
    {
     "data": {
      "text/plain": [
       "0"
      ]
     },
     "execution_count": 16,
     "metadata": {},
     "output_type": "execute_result"
    }
   ],
   "source": [
    "0 if 3 < 5 else 10\n",
    "#> 0"
   ]
  },
  {
   "cell_type": "markdown",
   "metadata": {
    "id": "KVY-QLWohDyT"
   },
   "source": [
    "### 3.1.5 作業ディレクトリ"
   ]
  },
  {
   "cell_type": "code",
   "execution_count": 17,
   "metadata": {
    "colab": {
     "base_uri": "https://localhost:8080/",
     "height": 37
    },
    "id": "lSvRxkoPhDyU",
    "outputId": "8afe4b1e-2654-452d-9127-c316548f8cad"
   },
   "outputs": [
    {
     "data": {
      "application/vnd.google.colaboratory.intrinsic+json": {
       "type": "string"
      },
      "text/plain": [
       "'/content'"
      ]
     },
     "execution_count": 17,
     "metadata": {},
     "output_type": "execute_result"
    }
   ],
   "source": [
    "import os\n",
    "os.getcwd()\n",
    "#> '/home/jovyan/work'"
   ]
  },
  {
   "cell_type": "code",
   "execution_count": 18,
   "metadata": {
    "colab": {
     "base_uri": "https://localhost:8080/",
     "height": 37
    },
    "id": "JqMEOdbMhDyU",
    "outputId": "2902c85c-0890-4728-d158-5187ad884721"
   },
   "outputs": [
    {
     "data": {
      "application/vnd.google.colaboratory.intrinsic+json": {
       "type": "string"
      },
      "text/plain": [
       "'/'"
      ]
     },
     "execution_count": 18,
     "metadata": {},
     "output_type": "execute_result"
    }
   ],
   "source": [
    "os.chdir('..')\n",
    "os.getcwd()\n",
    "#> '/home/jovyan'"
   ]
  },
  {
   "cell_type": "markdown",
   "metadata": {
    "id": "BdVmi5TahDyV"
   },
   "source": [
    "## 3.2 関数\n",
    "\n",
    "### 3.2.1 関数の利用"
   ]
  },
  {
   "cell_type": "code",
   "execution_count": 19,
   "metadata": {
    "colab": {
     "base_uri": "https://localhost:8080/"
    },
    "id": "JuTUg7HdhDyV",
    "outputId": "ca954d05-cbd8-4329-eb77-69965662164a"
   },
   "outputs": [
    {
     "data": {
      "text/plain": [
       "2.0"
      ]
     },
     "execution_count": 19,
     "metadata": {},
     "output_type": "execute_result"
    }
   ],
   "source": [
    "import math\n",
    "math.sqrt(4)\n",
    "#> 2.0"
   ]
  },
  {
   "cell_type": "code",
   "execution_count": 20,
   "metadata": {
    "colab": {
     "base_uri": "https://localhost:8080/"
    },
    "id": "YPKjPgohhDyW",
    "outputId": "4ba71de8-69d5-4ae6-f31d-125629130f84"
   },
   "outputs": [
    {
     "data": {
      "text/plain": [
       "2.0"
      ]
     },
     "execution_count": 20,
     "metadata": {},
     "output_type": "execute_result"
    }
   ],
   "source": [
    "math.log(100, 10)\n",
    "#> 2.0"
   ]
  },
  {
   "cell_type": "code",
   "execution_count": 21,
   "metadata": {
    "colab": {
     "base_uri": "https://localhost:8080/"
    },
    "id": "CTgxO0mwhDyW",
    "outputId": "c92857c9-4bfa-4d5e-ff3f-73fb0ae3ed2a"
   },
   "outputs": [
    {
     "data": {
      "text/plain": [
       "4.605170185988092"
      ]
     },
     "execution_count": 21,
     "metadata": {},
     "output_type": "execute_result"
    }
   ],
   "source": [
    "math.log(100)         # 自然対数\n",
    "# あるいは\n",
    "math.log(100, math.e) # 省略しない場合\n",
    "\n",
    "#> 4.605170185988092"
   ]
  },
  {
   "cell_type": "code",
   "execution_count": 22,
   "metadata": {
    "colab": {
     "base_uri": "https://localhost:8080/"
    },
    "id": "GK8GcyANhDyW",
    "outputId": "2868bd61-465f-4cc0-c839-7c167bcfea36"
   },
   "outputs": [
    {
     "data": {
      "text/plain": [
       "10.0"
      ]
     },
     "execution_count": 22,
     "metadata": {},
     "output_type": "execute_result"
    }
   ],
   "source": [
    "math.log10(100) # 常用対数\n",
    "#> 2.0\n",
    "\n",
    "math.log2(1024) # 底が2の対数\n",
    "#> 10.0"
   ]
  },
  {
   "cell_type": "markdown",
   "metadata": {
    "id": "t3xx1M2whDyX"
   },
   "source": [
    "#### 3.2.1.1 パイプ（Rのみ）\n",
    "\n",
    "### 3.2.2 関数の定義"
   ]
  },
  {
   "cell_type": "code",
   "execution_count": 23,
   "metadata": {
    "id": "GY4OuNVzhDyX"
   },
   "outputs": [],
   "source": [
    "def f(a, b):\n",
    "    return a - b"
   ]
  },
  {
   "cell_type": "code",
   "execution_count": 24,
   "metadata": {
    "colab": {
     "base_uri": "https://localhost:8080/"
    },
    "id": "G8_jihL0hDyY",
    "outputId": "5cdad485-f0a6-46ee-eb00-72fd2c30977f"
   },
   "outputs": [
    {
     "data": {
      "text/plain": [
       "-2"
      ]
     },
     "execution_count": 24,
     "metadata": {},
     "output_type": "execute_result"
    }
   ],
   "source": [
    "f(3, 5)\n",
    "#> -2"
   ]
  },
  {
   "cell_type": "markdown",
   "metadata": {
    "id": "moRxGa6QhDyZ"
   },
   "source": [
    "#### 3.2.2.1 デフォルト引数"
   ]
  },
  {
   "cell_type": "code",
   "execution_count": 25,
   "metadata": {
    "colab": {
     "base_uri": "https://localhost:8080/"
    },
    "id": "gnstdtILhDyZ",
    "outputId": "07401d23-15cc-479a-ca03-8be417dae4f4"
   },
   "outputs": [
    {
     "data": {
      "text/plain": [
       "-2"
      ]
     },
     "execution_count": 25,
     "metadata": {},
     "output_type": "execute_result"
    }
   ],
   "source": [
    "def f(a, b=5):\n",
    "    return a - b\n",
    "\n",
    "f(3) # f(3, 5)と同じこと\n",
    "#> -2"
   ]
  },
  {
   "cell_type": "markdown",
   "metadata": {
    "id": "1prvDQHChDya"
   },
   "source": [
    "#### 3.2.2.2 無名関数"
   ]
  },
  {
   "cell_type": "code",
   "execution_count": 26,
   "metadata": {
    "colab": {
     "base_uri": "https://localhost:8080/"
    },
    "id": "o6fVySAVhDya",
    "outputId": "93d547f7-6c3c-4fdd-d5fb-45cfcc7b6f47"
   },
   "outputs": [
    {
     "data": {
      "text/plain": [
       "-2"
      ]
     },
     "execution_count": 26,
     "metadata": {},
     "output_type": "execute_result"
    }
   ],
   "source": [
    "(lambda a, b: a - b)(3, 5)\n",
    "#> -2"
   ]
  }
 ],
 "metadata": {
  "colab": {
   "collapsed_sections": [],
   "provenance": []
  },
  "kernelspec": {
   "display_name": "Python 3",
   "language": "python",
   "name": "python3"
  },
  "language_info": {
   "codemirror_mode": {
    "name": "ipython",
    "version": 3
   },
   "file_extension": ".py",
   "mimetype": "text/x-python",
   "name": "python",
   "nbconvert_exporter": "python",
   "pygments_lexer": "ipython3",
   "version": "3.8.5"
  }
 },
 "nbformat": 4,
 "nbformat_minor": 5
}
